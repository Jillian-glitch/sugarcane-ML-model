{
 "cells": [
  {
   "cell_type": "code",
   "execution_count": 1,
   "id": "756f27cd-be03-44b0-9cf9-78861dc9f08a",
   "metadata": {},
   "outputs": [],
   "source": [
    "import pandas as pd\n",
    "import geopandas as gpd\n",
    "from shapely.geometry import Polygon"
   ]
  },
  {
   "cell_type": "code",
   "execution_count": 2,
   "id": "79405b94-09c7-4127-abf8-4f2aeaba563e",
   "metadata": {},
   "outputs": [
    {
     "data": {
      "text/html": [
       "<div>\n",
       "<style scoped>\n",
       "    .dataframe tbody tr th:only-of-type {\n",
       "        vertical-align: middle;\n",
       "    }\n",
       "\n",
       "    .dataframe tbody tr th {\n",
       "        vertical-align: top;\n",
       "    }\n",
       "\n",
       "    .dataframe thead th {\n",
       "        text-align: right;\n",
       "    }\n",
       "</style>\n",
       "<table border=\"1\" class=\"dataframe\">\n",
       "  <thead>\n",
       "    <tr style=\"text-align: right;\">\n",
       "      <th></th>\n",
       "      <th>index</th>\n",
       "      <th>plot</th>\n",
       "      <th>geometry</th>\n",
       "    </tr>\n",
       "  </thead>\n",
       "  <tbody>\n",
       "    <tr>\n",
       "      <th>0</th>\n",
       "      <td>0</td>\n",
       "      <td>plot_a</td>\n",
       "      <td>POLYGON ((31.84260 -26.22430, 31.88170 -26.224...</td>\n",
       "    </tr>\n",
       "    <tr>\n",
       "      <th>1</th>\n",
       "      <td>0</td>\n",
       "      <td>plot_b</td>\n",
       "      <td>POLYGON ((31.74100 -26.23170, 31.77941 -26.231...</td>\n",
       "    </tr>\n",
       "    <tr>\n",
       "      <th>2</th>\n",
       "      <td>0</td>\n",
       "      <td>plot_c</td>\n",
       "      <td>POLYGON ((30.91640 -26.51040, 31.01532 -26.510...</td>\n",
       "    </tr>\n",
       "  </tbody>\n",
       "</table>\n",
       "</div>"
      ],
      "text/plain": [
       "   index    plot                                           geometry\n",
       "0      0  plot_a  POLYGON ((31.84260 -26.22430, 31.88170 -26.224...\n",
       "1      0  plot_b  POLYGON ((31.74100 -26.23170, 31.77941 -26.231...\n",
       "2      0  plot_c  POLYGON ((30.91640 -26.51040, 31.01532 -26.510..."
      ]
     },
     "execution_count": 2,
     "metadata": {},
     "output_type": "execute_result"
    }
   ],
   "source": [
    "# define 3 random plots\n",
    "plot_a = gpd.GeoDataFrame(pd.DataFrame({'plot':'plot_a'}, index=[0]), geometry = [Polygon([(31.8426,-26.2243),(31.8817,-26.2243),(31.8817,-26.19103),(31.8426,-26.19103),(31.8426,-26.2243)])], crs=4326)\n",
    "plot_b = gpd.GeoDataFrame(pd.DataFrame({'plot':'plot_b'}, index=[0]), geometry = [Polygon([(31.7410,-26.2317),(31.77941,-26.2317),(31.77941,-26.2071),(31.74096,-26.2071),(31.74096,-26.2317)])], crs=4326)\n",
    "plot_c = gpd.GeoDataFrame(pd.DataFrame({'plot':'plot_c'}, index=[0]), geometry = [Polygon([(30.9164,-26.5104),(31.01532,-26.5104),(31.01532,-26.4022),(30.9164,-26.4022),(30.9164,-26.5104)])], crs=4326)\n",
    "# Combine sample plots into single geodataframe\n",
    "plots_gdf = pd.concat([plot_a,plot_b,plot_c]).reset_index()\n",
    "# Visualize data at intermediate stage\n",
    "plots_gdf.head()"
   ]
  },
  {
   "cell_type": "code",
   "execution_count": 3,
   "id": "2cbf2070-2209-4e68-a775-aad7e94fe8b5",
   "metadata": {},
   "outputs": [
    {
     "data": {
      "text/html": [
       "<div>\n",
       "<style scoped>\n",
       "    .dataframe tbody tr th:only-of-type {\n",
       "        vertical-align: middle;\n",
       "    }\n",
       "\n",
       "    .dataframe tbody tr th {\n",
       "        vertical-align: top;\n",
       "    }\n",
       "\n",
       "    .dataframe thead th {\n",
       "        text-align: right;\n",
       "    }\n",
       "</style>\n",
       "<table border=\"1\" class=\"dataframe\">\n",
       "  <thead>\n",
       "    <tr style=\"text-align: right;\">\n",
       "      <th></th>\n",
       "      <th>hh_id</th>\n",
       "      <th>garden_id</th>\n",
       "      <th>plot_id</th>\n",
       "      <th>crop_code_a</th>\n",
       "      <th>crop_code_b</th>\n",
       "      <th>crop_code_c</th>\n",
       "      <th>crop_code_d</th>\n",
       "      <th>crop_code_e</th>\n",
       "      <th>geometry</th>\n",
       "      <th>plot</th>\n",
       "    </tr>\n",
       "  </thead>\n",
       "  <tbody>\n",
       "    <tr>\n",
       "      <th>0</th>\n",
       "      <td>0002-001</td>\n",
       "      <td>RG04</td>\n",
       "      <td>R01</td>\n",
       "      <td>1</td>\n",
       "      <td>34</td>\n",
       "      <td>12.0</td>\n",
       "      <td>NaN</td>\n",
       "      <td>NaN</td>\n",
       "      <td>POLYGON ((31.84260 -26.22430, 31.88170 -26.224...</td>\n",
       "      <td>plot_a</td>\n",
       "    </tr>\n",
       "    <tr>\n",
       "      <th>1</th>\n",
       "      <td>0049-005</td>\n",
       "      <td>RG02</td>\n",
       "      <td>R01</td>\n",
       "      <td>12</td>\n",
       "      <td>38</td>\n",
       "      <td>NaN</td>\n",
       "      <td>NaN</td>\n",
       "      <td>28.0</td>\n",
       "      <td>POLYGON ((31.74100 -26.23170, 31.77941 -26.231...</td>\n",
       "      <td>plot_b</td>\n",
       "    </tr>\n",
       "    <tr>\n",
       "      <th>2</th>\n",
       "      <td>0087-003</td>\n",
       "      <td>RG03</td>\n",
       "      <td>R02</td>\n",
       "      <td>1</td>\n",
       "      <td>28</td>\n",
       "      <td>38.0</td>\n",
       "      <td>42.0</td>\n",
       "      <td>NaN</td>\n",
       "      <td>POLYGON ((30.91640 -26.51040, 31.01532 -26.510...</td>\n",
       "      <td>plot_c</td>\n",
       "    </tr>\n",
       "  </tbody>\n",
       "</table>\n",
       "</div>"
      ],
      "text/plain": [
       "      hh_id garden_id plot_id  crop_code_a  crop_code_b  crop_code_c  \\\n",
       "0  0002-001      RG04     R01            1           34         12.0   \n",
       "1  0049-005      RG02     R01           12           38          NaN   \n",
       "2  0087-003      RG03     R02            1           28         38.0   \n",
       "\n",
       "   crop_code_d  crop_code_e  \\\n",
       "0          NaN          NaN   \n",
       "1          NaN         28.0   \n",
       "2         42.0          NaN   \n",
       "\n",
       "                                            geometry    plot  \n",
       "0  POLYGON ((31.84260 -26.22430, 31.88170 -26.224...  plot_a  \n",
       "1  POLYGON ((31.74100 -26.23170, 31.77941 -26.231...  plot_b  \n",
       "2  POLYGON ((30.91640 -26.51040, 31.01532 -26.510...  plot_c  "
      ]
     },
     "execution_count": 3,
     "metadata": {},
     "output_type": "execute_result"
    }
   ],
   "source": [
    "# Create sample dataframe with random values\n",
    "survey_df = pd.DataFrame({'hh_id':['0002-001','0049-005','0087-003'],'garden_id':['RG04','RG02','RG03'],'plot_id':['R01','R01','R02'],\n",
    "    'crop_code_a':[1,12,1],'crop_code_b':[34,38,28],'crop_code_c':[12,None,38],\n",
    "    'crop_code_d':[None,None,42],'crop_code_e':[None,28,None]})\n",
    "survey_df['geometry'] = plots_gdf['geometry']\n",
    "survey_df['plot'] = plots_gdf['plot']\n",
    "\n",
    "# Convert to GeoPandas GeoDataFrame type (identify as geographic data)\n",
    "survey_gdf = gpd.GeoDataFrame(survey_df)\n",
    "\n",
    "# Visualize final dataset\n",
    "survey_gdf.head()"
   ]
  },
  {
   "cell_type": "code",
   "execution_count": 4,
   "id": "1adb5638-02b8-4211-af64-4a9885596ca1",
   "metadata": {},
   "outputs": [
    {
     "data": {
      "text/html": [
       "<div>\n",
       "<style scoped>\n",
       "    .dataframe tbody tr th:only-of-type {\n",
       "        vertical-align: middle;\n",
       "    }\n",
       "\n",
       "    .dataframe tbody tr th {\n",
       "        vertical-align: top;\n",
       "    }\n",
       "\n",
       "    .dataframe thead th {\n",
       "        text-align: right;\n",
       "    }\n",
       "</style>\n",
       "<table border=\"1\" class=\"dataframe\">\n",
       "  <thead>\n",
       "    <tr style=\"text-align: right;\">\n",
       "      <th></th>\n",
       "      <th>hh_id</th>\n",
       "      <th>garden_id</th>\n",
       "      <th>plot_id</th>\n",
       "      <th>crop_code_a</th>\n",
       "      <th>crop_code_b</th>\n",
       "      <th>crop_code_c</th>\n",
       "      <th>crop_code_d</th>\n",
       "      <th>crop_code_e</th>\n",
       "      <th>geometry</th>\n",
       "      <th>plot</th>\n",
       "      <th>to_hash</th>\n",
       "      <th>unique_id</th>\n",
       "    </tr>\n",
       "  </thead>\n",
       "  <tbody>\n",
       "    <tr>\n",
       "      <th>0</th>\n",
       "      <td>0002-001</td>\n",
       "      <td>RG04</td>\n",
       "      <td>R01</td>\n",
       "      <td>1</td>\n",
       "      <td>34</td>\n",
       "      <td>12.0</td>\n",
       "      <td>NaN</td>\n",
       "      <td>NaN</td>\n",
       "      <td>POLYGON ((31.84260 -26.22430, 31.88170 -26.224...</td>\n",
       "      <td>plot_a</td>\n",
       "      <td>0002-001-RG04-R01</td>\n",
       "      <td>3181202645407708829</td>\n",
       "    </tr>\n",
       "    <tr>\n",
       "      <th>1</th>\n",
       "      <td>0049-005</td>\n",
       "      <td>RG02</td>\n",
       "      <td>R01</td>\n",
       "      <td>12</td>\n",
       "      <td>38</td>\n",
       "      <td>NaN</td>\n",
       "      <td>NaN</td>\n",
       "      <td>28.0</td>\n",
       "      <td>POLYGON ((31.74100 -26.23170, 31.77941 -26.231...</td>\n",
       "      <td>plot_b</td>\n",
       "      <td>0049-005-RG02-R01</td>\n",
       "      <td>-8537870585513493057</td>\n",
       "    </tr>\n",
       "    <tr>\n",
       "      <th>2</th>\n",
       "      <td>0087-003</td>\n",
       "      <td>RG03</td>\n",
       "      <td>R02</td>\n",
       "      <td>1</td>\n",
       "      <td>28</td>\n",
       "      <td>38.0</td>\n",
       "      <td>42.0</td>\n",
       "      <td>NaN</td>\n",
       "      <td>POLYGON ((30.91640 -26.51040, 31.01532 -26.510...</td>\n",
       "      <td>plot_c</td>\n",
       "      <td>0087-003-RG03-R02</td>\n",
       "      <td>5979481494025301502</td>\n",
       "    </tr>\n",
       "  </tbody>\n",
       "</table>\n",
       "</div>"
      ],
      "text/plain": [
       "      hh_id garden_id plot_id  crop_code_a  crop_code_b  crop_code_c  \\\n",
       "0  0002-001      RG04     R01            1           34         12.0   \n",
       "1  0049-005      RG02     R01           12           38          NaN   \n",
       "2  0087-003      RG03     R02            1           28         38.0   \n",
       "\n",
       "   crop_code_d  crop_code_e  \\\n",
       "0          NaN          NaN   \n",
       "1          NaN         28.0   \n",
       "2         42.0          NaN   \n",
       "\n",
       "                                            geometry    plot  \\\n",
       "0  POLYGON ((31.84260 -26.22430, 31.88170 -26.224...  plot_a   \n",
       "1  POLYGON ((31.74100 -26.23170, 31.77941 -26.231...  plot_b   \n",
       "2  POLYGON ((30.91640 -26.51040, 31.01532 -26.510...  plot_c   \n",
       "\n",
       "             to_hash            unique_id  \n",
       "0  0002-001-RG04-R01  3181202645407708829  \n",
       "1  0049-005-RG02-R01 -8537870585513493057  \n",
       "2  0087-003-RG03-R02  5979481494025301502  "
      ]
     },
     "execution_count": 4,
     "metadata": {},
     "output_type": "execute_result"
    }
   ],
   "source": [
    "# combine fields which can uniquely identify a plot for hashing\n",
    "survey_gdf['to_hash'] = survey_gdf['hh_id'] + \"-\" + survey_gdf['garden_id'] + \\\n",
    "    \"-\" + survey_gdf['plot_id']\n",
    "# create unique id\n",
    "survey_gdf['unique_id'] = survey_gdf['to_hash'].apply(hash)\n",
    "survey_gdf.head()"
   ]
  },
  {
   "cell_type": "code",
   "execution_count": 5,
   "id": "0af0a06c-d5f0-4aca-a39d-e641a834d2b8",
   "metadata": {},
   "outputs": [
    {
     "data": {
      "text/html": [
       "<div>\n",
       "<style scoped>\n",
       "    .dataframe tbody tr th:only-of-type {\n",
       "        vertical-align: middle;\n",
       "    }\n",
       "\n",
       "    .dataframe tbody tr th {\n",
       "        vertical-align: top;\n",
       "    }\n",
       "\n",
       "    .dataframe thead th {\n",
       "        text-align: right;\n",
       "    }\n",
       "</style>\n",
       "<table border=\"1\" class=\"dataframe\">\n",
       "  <thead>\n",
       "    <tr style=\"text-align: right;\">\n",
       "      <th></th>\n",
       "      <th>crop_code_a</th>\n",
       "      <th>crop_code_b</th>\n",
       "      <th>crop_code_c</th>\n",
       "      <th>crop_code_d</th>\n",
       "      <th>crop_code_e</th>\n",
       "      <th>geometry</th>\n",
       "      <th>plot</th>\n",
       "      <th>unique_id</th>\n",
       "    </tr>\n",
       "  </thead>\n",
       "  <tbody>\n",
       "    <tr>\n",
       "      <th>0</th>\n",
       "      <td>1</td>\n",
       "      <td>34</td>\n",
       "      <td>12.0</td>\n",
       "      <td>NaN</td>\n",
       "      <td>NaN</td>\n",
       "      <td>POLYGON ((31.84260 -26.22430, 31.88170 -26.224...</td>\n",
       "      <td>plot_a</td>\n",
       "      <td>3181202645407708829</td>\n",
       "    </tr>\n",
       "    <tr>\n",
       "      <th>1</th>\n",
       "      <td>12</td>\n",
       "      <td>38</td>\n",
       "      <td>NaN</td>\n",
       "      <td>NaN</td>\n",
       "      <td>28.0</td>\n",
       "      <td>POLYGON ((31.74100 -26.23170, 31.77941 -26.231...</td>\n",
       "      <td>plot_b</td>\n",
       "      <td>-8537870585513493057</td>\n",
       "    </tr>\n",
       "    <tr>\n",
       "      <th>2</th>\n",
       "      <td>1</td>\n",
       "      <td>28</td>\n",
       "      <td>38.0</td>\n",
       "      <td>42.0</td>\n",
       "      <td>NaN</td>\n",
       "      <td>POLYGON ((30.91640 -26.51040, 31.01532 -26.510...</td>\n",
       "      <td>plot_c</td>\n",
       "      <td>5979481494025301502</td>\n",
       "    </tr>\n",
       "  </tbody>\n",
       "</table>\n",
       "</div>"
      ],
      "text/plain": [
       "   crop_code_a  crop_code_b  crop_code_c  crop_code_d  crop_code_e  \\\n",
       "0            1           34         12.0          NaN          NaN   \n",
       "1           12           38          NaN          NaN         28.0   \n",
       "2            1           28         38.0         42.0          NaN   \n",
       "\n",
       "                                            geometry    plot  \\\n",
       "0  POLYGON ((31.84260 -26.22430, 31.88170 -26.224...  plot_a   \n",
       "1  POLYGON ((31.74100 -26.23170, 31.77941 -26.231...  plot_b   \n",
       "2  POLYGON ((30.91640 -26.51040, 31.01532 -26.510...  plot_c   \n",
       "\n",
       "             unique_id  \n",
       "0  3181202645407708829  \n",
       "1 -8537870585513493057  \n",
       "2  5979481494025301502  "
      ]
     },
     "execution_count": 5,
     "metadata": {},
     "output_type": "execute_result"
    }
   ],
   "source": [
    "# drop fields unnecessary for our model\n",
    "survey_gdf.drop(columns=['hh_id','garden_id','plot_id','to_hash'], inplace=True)\n",
    "survey_gdf.head()"
   ]
  },
  {
   "cell_type": "code",
   "execution_count": 6,
   "id": "d3addf42-86d0-46d6-a815-14aa44a6d5da",
   "metadata": {},
   "outputs": [],
   "source": [
    "# Save sample data as GeoJSON file for use in module\n",
    "survey_gdf.to_file('sample_survey_fields_geo.geojson', driver='GeoJSON')"
   ]
  },
  {
   "cell_type": "code",
   "execution_count": 7,
   "id": "1f2ed126-def0-4b58-90d2-763721ecef6a",
   "metadata": {},
   "outputs": [
    {
     "data": {
      "text/html": [
       "<p>To authorize access needed by Earth Engine, open the following\n",
       "        URL in a web browser and follow the instructions:</p>\n",
       "        <p><a href=https://code.earthengine.google.com/client-auth?scopes=https%3A//www.googleapis.com/auth/earthengine%20https%3A//www.googleapis.com/auth/devstorage.full_control&request_id=bbGJiUo7eygxARiTKXtbgBBliVe06ICjkukO0-H8-1Y&tc=IwFbD9ciwlFYMbzqi5Ygc31cnng8cB1rbIgxZqdFGRs&cc=seHfC_hzUpH5xhYwRJ13q2mWEP51KpaJthiuHVbHkkU>https://code.earthengine.google.com/client-auth?scopes=https%3A//www.googleapis.com/auth/earthengine%20https%3A//www.googleapis.com/auth/devstorage.full_control&request_id=bbGJiUo7eygxARiTKXtbgBBliVe06ICjkukO0-H8-1Y&tc=IwFbD9ciwlFYMbzqi5Ygc31cnng8cB1rbIgxZqdFGRs&cc=seHfC_hzUpH5xhYwRJ13q2mWEP51KpaJthiuHVbHkkU</a></p>\n",
       "        <p>The authorization workflow will generate a code, which you should paste in the box below.</p>\n",
       "        "
      ],
      "text/plain": [
       "<IPython.core.display.HTML object>"
      ]
     },
     "metadata": {},
     "output_type": "display_data"
    },
    {
     "name": "stdin",
     "output_type": "stream",
     "text": [
      "Enter verification code:  4/1AfJohXlb6SWbnePJpWqXhy23NIhR1fPlkjHvx5POWvPjBuY9OFUzAbaMnlw\n"
     ]
    },
    {
     "name": "stdout",
     "output_type": "stream",
     "text": [
      "\n",
      "Successfully saved authorization token.\n"
     ]
    }
   ],
   "source": [
    "import geemap\n",
    "import ee\n",
    "ee.Initialize()\n",
    "ee.Authenticate()"
   ]
  },
  {
   "cell_type": "code",
   "execution_count": 8,
   "id": "82818269-2630-4d4d-be17-29b168036d10",
   "metadata": {},
   "outputs": [
    {
     "data": {
      "text/html": [
       "\n",
       "            <style>\n",
       "                .geemap-dark {\n",
       "                    --jp-widgets-color: white;\n",
       "                    --jp-widgets-label-color: white;\n",
       "                    --jp-ui-font-color1: white;\n",
       "                    --jp-layout-color2: #454545;\n",
       "                    background-color: #383838;\n",
       "                }\n",
       "                    \n",
       "                .geemap-dark .jupyter-button {\n",
       "                    --jp-layout-color3: #383838;\n",
       "                }\n",
       "                \n",
       "                .geemap-colab {\n",
       "                    background-color: var(--colab-primary-surface-color, white);\n",
       "                }\n",
       "                    \n",
       "                .geemap-colab .jupyter-button {\n",
       "                    --jp-layout-color3: var(--colab-primary-surface-color, white);\n",
       "                }\n",
       "            </style>\n",
       "            "
      ],
      "text/plain": [
       "<IPython.core.display.HTML object>"
      ]
     },
     "metadata": {},
     "output_type": "display_data"
    }
   ],
   "source": [
    "plot_a = survey_gdf[survey_gdf['plot'] == 'plot_a'].loc[:,('unique_id','geometry')]\n",
    "plot_b = survey_gdf[survey_gdf['plot'] == 'plot_b'].loc[:,('unique_id','geometry')]\n",
    "plot_c = survey_gdf[survey_gdf['plot'] == 'plot_c'].loc[:,('unique_id','geometry')]"
   ]
  },
  {
   "cell_type": "code",
   "execution_count": 9,
   "id": "025b1822-e120-4779-9884-8f21d36e7181",
   "metadata": {},
   "outputs": [
    {
     "data": {
      "text/html": [
       "\n",
       "            <style>\n",
       "                .geemap-dark {\n",
       "                    --jp-widgets-color: white;\n",
       "                    --jp-widgets-label-color: white;\n",
       "                    --jp-ui-font-color1: white;\n",
       "                    --jp-layout-color2: #454545;\n",
       "                    background-color: #383838;\n",
       "                }\n",
       "                    \n",
       "                .geemap-dark .jupyter-button {\n",
       "                    --jp-layout-color3: #383838;\n",
       "                }\n",
       "                \n",
       "                .geemap-colab {\n",
       "                    background-color: var(--colab-primary-surface-color, white);\n",
       "                }\n",
       "                    \n",
       "                .geemap-colab .jupyter-button {\n",
       "                    --jp-layout-color3: var(--colab-primary-surface-color, white);\n",
       "                }\n",
       "            </style>\n",
       "            "
      ],
      "text/plain": [
       "<IPython.core.display.HTML object>"
      ]
     },
     "metadata": {},
     "output_type": "display_data"
    },
    {
     "data": {
      "application/vnd.jupyter.widget-view+json": {
       "model_id": "fa0b7794f106446f903d2dfa63d30d79",
       "version_major": 2,
       "version_minor": 0
      },
      "text/plain": [
       "Map(center=[-26.19103, 31.8817], controls=(WidgetControl(options=['position', 'transparent_bg'], widget=Search…"
      ]
     },
     "execution_count": 9,
     "metadata": {},
     "output_type": "execute_result"
    }
   ],
   "source": [
    "ee_plot_a = geemap.geopandas_to_ee(plot_a).geometry()\n",
    "center_lat = -26.19103\n",
    "center_lon = 31.8817\n",
    "\n",
    "# this is not a real plot from any survey data; it was randomly selected for demonstration\n",
    "map_plot_a = geemap.Map(center=[center_lat,center_lon],zoom=15)\n",
    "map_plot_a.add_basemap('SATELLITE')\n",
    "map_plot_a.addLayer(ee_plot_a,vis_params={'color':'a4c639'},opacity=0.8)\n",
    "map_plot_a"
   ]
  },
  {
   "cell_type": "code",
   "execution_count": 10,
   "id": "98e11002-7583-4072-a51d-0c04ff9fa23a",
   "metadata": {},
   "outputs": [
    {
     "data": {
      "text/html": [
       "\n",
       "            <style>\n",
       "                .geemap-dark {\n",
       "                    --jp-widgets-color: white;\n",
       "                    --jp-widgets-label-color: white;\n",
       "                    --jp-ui-font-color1: white;\n",
       "                    --jp-layout-color2: #454545;\n",
       "                    background-color: #383838;\n",
       "                }\n",
       "                    \n",
       "                .geemap-dark .jupyter-button {\n",
       "                    --jp-layout-color3: #383838;\n",
       "                }\n",
       "                \n",
       "                .geemap-colab {\n",
       "                    background-color: var(--colab-primary-surface-color, white);\n",
       "                }\n",
       "                    \n",
       "                .geemap-colab .jupyter-button {\n",
       "                    --jp-layout-color3: var(--colab-primary-surface-color, white);\n",
       "                }\n",
       "            </style>\n",
       "            "
      ],
      "text/plain": [
       "<IPython.core.display.HTML object>"
      ]
     },
     "metadata": {},
     "output_type": "display_data"
    },
    {
     "data": {
      "application/vnd.jupyter.widget-view+json": {
       "model_id": "acccf778fa054e968735b1b02dc4c842",
       "version_major": 2,
       "version_minor": 0
      },
      "text/plain": [
       "Map(center=[-26.2071, 31.7794], controls=(WidgetControl(options=['position', 'transparent_bg'], widget=SearchD…"
      ]
     },
     "execution_count": 10,
     "metadata": {},
     "output_type": "execute_result"
    }
   ],
   "source": [
    "ee_plot_b = geemap.geopandas_to_ee(plot_b).geometry()\n",
    "center_lat = -26.2071\n",
    "center_lon = 31.7794\n",
    "\n",
    "# this is not a real plot from any survey data; it was randomly selected for demonstration\n",
    "map_plot_b = geemap.Map(center=[center_lat,center_lon],zoom=15)\n",
    "map_plot_b.add_basemap('SATELLITE')\n",
    "map_plot_b.addLayer(ee_plot_b,vis_params={'color':'a4c639'},opacity=0.8)\n",
    "map_plot_b"
   ]
  },
  {
   "cell_type": "code",
   "execution_count": 11,
   "id": "225d171d-a09e-4028-9f9a-becde1817e4c",
   "metadata": {},
   "outputs": [
    {
     "data": {
      "text/html": [
       "\n",
       "            <style>\n",
       "                .geemap-dark {\n",
       "                    --jp-widgets-color: white;\n",
       "                    --jp-widgets-label-color: white;\n",
       "                    --jp-ui-font-color1: white;\n",
       "                    --jp-layout-color2: #454545;\n",
       "                    background-color: #383838;\n",
       "                }\n",
       "                    \n",
       "                .geemap-dark .jupyter-button {\n",
       "                    --jp-layout-color3: #383838;\n",
       "                }\n",
       "                \n",
       "                .geemap-colab {\n",
       "                    background-color: var(--colab-primary-surface-color, white);\n",
       "                }\n",
       "                    \n",
       "                .geemap-colab .jupyter-button {\n",
       "                    --jp-layout-color3: var(--colab-primary-surface-color, white);\n",
       "                }\n",
       "            </style>\n",
       "            "
      ],
      "text/plain": [
       "<IPython.core.display.HTML object>"
      ]
     },
     "metadata": {},
     "output_type": "display_data"
    },
    {
     "data": {
      "application/vnd.jupyter.widget-view+json": {
       "model_id": "e5914ba15964476880dffdf3f90660d7",
       "version_major": 2,
       "version_minor": 0
      },
      "text/plain": [
       "Map(center=[-26.4022, 31.0153], controls=(WidgetControl(options=['position', 'transparent_bg'], widget=SearchD…"
      ]
     },
     "execution_count": 11,
     "metadata": {},
     "output_type": "execute_result"
    }
   ],
   "source": [
    "ee_plot_c = geemap.geopandas_to_ee(plot_c).geometry()\n",
    "center_lat = -26.4022\n",
    "center_lon = 31.0153\n",
    "\n",
    "# this is not a real plot from any survey data; it was randomly selected for demonstration\n",
    "map_plot_c = geemap.Map(center=[center_lat,center_lon],zoom=15)\n",
    "map_plot_c.add_basemap('SATELLITE')\n",
    "map_plot_c.addLayer(ee_plot_c,vis_params={'color':'a4c639'},opacity=0.8)\n",
    "map_plot_c"
   ]
  },
  {
   "cell_type": "code",
   "execution_count": 12,
   "id": "c74ff434-54db-4a81-b510-8af842c78800",
   "metadata": {},
   "outputs": [
    {
     "data": {
      "text/html": [
       "\n",
       "            <style>\n",
       "                .geemap-dark {\n",
       "                    --jp-widgets-color: white;\n",
       "                    --jp-widgets-label-color: white;\n",
       "                    --jp-ui-font-color1: white;\n",
       "                    --jp-layout-color2: #454545;\n",
       "                    background-color: #383838;\n",
       "                }\n",
       "                    \n",
       "                .geemap-dark .jupyter-button {\n",
       "                    --jp-layout-color3: #383838;\n",
       "                }\n",
       "                \n",
       "                .geemap-colab {\n",
       "                    background-color: var(--colab-primary-surface-color, white);\n",
       "                }\n",
       "                    \n",
       "                .geemap-colab .jupyter-button {\n",
       "                    --jp-layout-color3: var(--colab-primary-surface-color, white);\n",
       "                }\n",
       "            </style>\n",
       "            "
      ],
      "text/plain": [
       "<IPython.core.display.HTML object>"
      ]
     },
     "metadata": {},
     "output_type": "display_data"
    },
    {
     "data": {
      "text/plain": [
       "<Projected CRS: EPSG:32736>\n",
       "Name: WGS 84 / UTM zone 36S\n",
       "Axis Info [cartesian]:\n",
       "- E[east]: Easting (metre)\n",
       "- N[north]: Northing (metre)\n",
       "Area of Use:\n",
       "- name: Between 30°E and 36°E, southern hemisphere between 80°S and equator, onshore and offshore. Burundi. Eswatini (Swaziland). Kenya. Malawi. Mozambique. Rwanda. South Africa. Tanzania. Uganda. Zambia. Zimbabwe.\n",
       "- bounds: (30.0, -80.0, 36.0, 0.0)\n",
       "Coordinate Operation:\n",
       "- name: UTM zone 36S\n",
       "- method: Transverse Mercator\n",
       "Datum: World Geodetic System 1984 ensemble\n",
       "- Ellipsoid: WGS 84\n",
       "- Prime Meridian: Greenwich"
      ]
     },
     "execution_count": 12,
     "metadata": {},
     "output_type": "execute_result"
    }
   ],
   "source": [
    "# Project to appropriate CRS\n",
    "survey_gdf.to_crs('EPSG:32736',inplace=True)\n",
    "survey_gdf.crs"
   ]
  },
  {
   "cell_type": "code",
   "execution_count": 13,
   "id": "e1c924b1-3e99-48bc-a7a9-0668c2b3dcb6",
   "metadata": {},
   "outputs": [
    {
     "data": {
      "text/html": [
       "\n",
       "            <style>\n",
       "                .geemap-dark {\n",
       "                    --jp-widgets-color: white;\n",
       "                    --jp-widgets-label-color: white;\n",
       "                    --jp-ui-font-color1: white;\n",
       "                    --jp-layout-color2: #454545;\n",
       "                    background-color: #383838;\n",
       "                }\n",
       "                    \n",
       "                .geemap-dark .jupyter-button {\n",
       "                    --jp-layout-color3: #383838;\n",
       "                }\n",
       "                \n",
       "                .geemap-colab {\n",
       "                    background-color: var(--colab-primary-surface-color, white);\n",
       "                }\n",
       "                    \n",
       "                .geemap-colab .jupyter-button {\n",
       "                    --jp-layout-color3: var(--colab-primary-surface-color, white);\n",
       "                }\n",
       "            </style>\n",
       "            "
      ],
      "text/plain": [
       "<IPython.core.display.HTML object>"
      ]
     },
     "metadata": {},
     "output_type": "display_data"
    },
    {
     "data": {
      "text/html": [
       "<div>\n",
       "<style scoped>\n",
       "    .dataframe tbody tr th:only-of-type {\n",
       "        vertical-align: middle;\n",
       "    }\n",
       "\n",
       "    .dataframe tbody tr th {\n",
       "        vertical-align: top;\n",
       "    }\n",
       "\n",
       "    .dataframe thead th {\n",
       "        text-align: right;\n",
       "    }\n",
       "</style>\n",
       "<table border=\"1\" class=\"dataframe\">\n",
       "  <thead>\n",
       "    <tr style=\"text-align: right;\">\n",
       "      <th></th>\n",
       "      <th>crop_code_a</th>\n",
       "      <th>crop_code_b</th>\n",
       "      <th>crop_code_c</th>\n",
       "      <th>crop_code_d</th>\n",
       "      <th>crop_code_e</th>\n",
       "      <th>geometry</th>\n",
       "      <th>plot</th>\n",
       "      <th>unique_id</th>\n",
       "      <th>plot_area</th>\n",
       "    </tr>\n",
       "  </thead>\n",
       "  <tbody>\n",
       "    <tr>\n",
       "      <th>0</th>\n",
       "      <td>1</td>\n",
       "      <td>34</td>\n",
       "      <td>12.0</td>\n",
       "      <td>NaN</td>\n",
       "      <td>NaN</td>\n",
       "      <td>POLYGON ((384386.130 7098959.920, 388292.179 7...</td>\n",
       "      <td>plot_a</td>\n",
       "      <td>3181202645407708829</td>\n",
       "      <td>3557.557707</td>\n",
       "    </tr>\n",
       "    <tr>\n",
       "      <th>1</th>\n",
       "      <td>12</td>\n",
       "      <td>38</td>\n",
       "      <td>NaN</td>\n",
       "      <td>NaN</td>\n",
       "      <td>28.0</td>\n",
       "      <td>POLYGON ((374244.201 7098045.678, 378081.164 7...</td>\n",
       "      <td>plot_b</td>\n",
       "      <td>-8537870585513493057</td>\n",
       "      <td>2586.645324</td>\n",
       "    </tr>\n",
       "    <tr>\n",
       "      <th>2</th>\n",
       "      <td>1</td>\n",
       "      <td>28</td>\n",
       "      <td>38.0</td>\n",
       "      <td>42.0</td>\n",
       "      <td>NaN</td>\n",
       "      <td>POLYGON ((292359.776 7066104.867, 302220.053 7...</td>\n",
       "      <td>plot_c</td>\n",
       "      <td>5979481494025301502</td>\n",
       "      <td>29229.646682</td>\n",
       "    </tr>\n",
       "  </tbody>\n",
       "</table>\n",
       "</div>"
      ],
      "text/plain": [
       "   crop_code_a  crop_code_b  crop_code_c  crop_code_d  crop_code_e  \\\n",
       "0            1           34         12.0          NaN          NaN   \n",
       "1           12           38          NaN          NaN         28.0   \n",
       "2            1           28         38.0         42.0          NaN   \n",
       "\n",
       "                                            geometry    plot  \\\n",
       "0  POLYGON ((384386.130 7098959.920, 388292.179 7...  plot_a   \n",
       "1  POLYGON ((374244.201 7098045.678, 378081.164 7...  plot_b   \n",
       "2  POLYGON ((292359.776 7066104.867, 302220.053 7...  plot_c   \n",
       "\n",
       "             unique_id     plot_area  \n",
       "0  3181202645407708829   3557.557707  \n",
       "1 -8537870585513493057   2586.645324  \n",
       "2  5979481494025301502  29229.646682  "
      ]
     },
     "execution_count": 13,
     "metadata": {},
     "output_type": "execute_result"
    }
   ],
   "source": [
    "survey_gdf['plot_area'] = survey_gdf.area * 0.0002471054\n",
    "survey_gdf"
   ]
  },
  {
   "cell_type": "code",
   "execution_count": 14,
   "id": "f7cb89ea-892e-4fbe-82c5-023c85bda944",
   "metadata": {},
   "outputs": [
    {
     "data": {
      "text/html": [
       "\n",
       "            <style>\n",
       "                .geemap-dark {\n",
       "                    --jp-widgets-color: white;\n",
       "                    --jp-widgets-label-color: white;\n",
       "                    --jp-ui-font-color1: white;\n",
       "                    --jp-layout-color2: #454545;\n",
       "                    background-color: #383838;\n",
       "                }\n",
       "                    \n",
       "                .geemap-dark .jupyter-button {\n",
       "                    --jp-layout-color3: #383838;\n",
       "                }\n",
       "                \n",
       "                .geemap-colab {\n",
       "                    background-color: var(--colab-primary-surface-color, white);\n",
       "                }\n",
       "                    \n",
       "                .geemap-colab .jupyter-button {\n",
       "                    --jp-layout-color3: var(--colab-primary-surface-color, white);\n",
       "                }\n",
       "            </style>\n",
       "            "
      ],
      "text/plain": [
       "<IPython.core.display.HTML object>"
      ]
     },
     "metadata": {},
     "output_type": "display_data"
    },
    {
     "data": {
      "text/plain": [
       "<Geographic 2D CRS: EPSG:4326>\n",
       "Name: WGS 84\n",
       "Axis Info [ellipsoidal]:\n",
       "- Lat[north]: Geodetic latitude (degree)\n",
       "- Lon[east]: Geodetic longitude (degree)\n",
       "Area of Use:\n",
       "- name: World.\n",
       "- bounds: (-180.0, -90.0, 180.0, 90.0)\n",
       "Datum: World Geodetic System 1984 ensemble\n",
       "- Ellipsoid: WGS 84\n",
       "- Prime Meridian: Greenwich"
      ]
     },
     "execution_count": 14,
     "metadata": {},
     "output_type": "execute_result"
    }
   ],
   "source": [
    "survey_gdf = survey_gdf.to_crs(4326)\n",
    "survey_gdf.crs"
   ]
  },
  {
   "cell_type": "code",
   "execution_count": 15,
   "id": "c4d649d4-04d0-49cf-a108-767d4e11bb2f",
   "metadata": {},
   "outputs": [
    {
     "data": {
      "text/html": [
       "\n",
       "            <style>\n",
       "                .geemap-dark {\n",
       "                    --jp-widgets-color: white;\n",
       "                    --jp-widgets-label-color: white;\n",
       "                    --jp-ui-font-color1: white;\n",
       "                    --jp-layout-color2: #454545;\n",
       "                    background-color: #383838;\n",
       "                }\n",
       "                    \n",
       "                .geemap-dark .jupyter-button {\n",
       "                    --jp-layout-color3: #383838;\n",
       "                }\n",
       "                \n",
       "                .geemap-colab {\n",
       "                    background-color: var(--colab-primary-surface-color, white);\n",
       "                }\n",
       "                    \n",
       "                .geemap-colab .jupyter-button {\n",
       "                    --jp-layout-color3: var(--colab-primary-surface-color, white);\n",
       "                }\n",
       "            </style>\n",
       "            "
      ],
      "text/plain": [
       "<IPython.core.display.HTML object>"
      ]
     },
     "metadata": {},
     "output_type": "display_data"
    },
    {
     "data": {
      "text/html": [
       "<div>\n",
       "<style scoped>\n",
       "    .dataframe tbody tr th:only-of-type {\n",
       "        vertical-align: middle;\n",
       "    }\n",
       "\n",
       "    .dataframe tbody tr th {\n",
       "        vertical-align: top;\n",
       "    }\n",
       "\n",
       "    .dataframe thead th {\n",
       "        text-align: right;\n",
       "    }\n",
       "</style>\n",
       "<table border=\"1\" class=\"dataframe\">\n",
       "  <thead>\n",
       "    <tr style=\"text-align: right;\">\n",
       "      <th></th>\n",
       "      <th>crop_code_a</th>\n",
       "      <th>crop_code_b</th>\n",
       "      <th>crop_code_c</th>\n",
       "      <th>crop_code_d</th>\n",
       "      <th>crop_code_e</th>\n",
       "      <th>geometry</th>\n",
       "      <th>plot</th>\n",
       "      <th>unique_id</th>\n",
       "      <th>plot_area</th>\n",
       "      <th>maize_pos</th>\n",
       "    </tr>\n",
       "  </thead>\n",
       "  <tbody>\n",
       "    <tr>\n",
       "      <th>0</th>\n",
       "      <td>1</td>\n",
       "      <td>34</td>\n",
       "      <td>12.0</td>\n",
       "      <td>NaN</td>\n",
       "      <td>NaN</td>\n",
       "      <td>POLYGON ((31.84260 -26.22430, 31.88170 -26.224...</td>\n",
       "      <td>plot_a</td>\n",
       "      <td>3181202645407708829</td>\n",
       "      <td>3557.557707</td>\n",
       "      <td>1</td>\n",
       "    </tr>\n",
       "    <tr>\n",
       "      <th>1</th>\n",
       "      <td>12</td>\n",
       "      <td>38</td>\n",
       "      <td>NaN</td>\n",
       "      <td>NaN</td>\n",
       "      <td>28.0</td>\n",
       "      <td>POLYGON ((31.74100 -26.23170, 31.77941 -26.231...</td>\n",
       "      <td>plot_b</td>\n",
       "      <td>-8537870585513493057</td>\n",
       "      <td>2586.645324</td>\n",
       "      <td>0</td>\n",
       "    </tr>\n",
       "    <tr>\n",
       "      <th>2</th>\n",
       "      <td>1</td>\n",
       "      <td>28</td>\n",
       "      <td>38.0</td>\n",
       "      <td>42.0</td>\n",
       "      <td>NaN</td>\n",
       "      <td>POLYGON ((30.91640 -26.51040, 31.01532 -26.510...</td>\n",
       "      <td>plot_c</td>\n",
       "      <td>5979481494025301502</td>\n",
       "      <td>29229.646682</td>\n",
       "      <td>1</td>\n",
       "    </tr>\n",
       "  </tbody>\n",
       "</table>\n",
       "</div>"
      ],
      "text/plain": [
       "   crop_code_a  crop_code_b  crop_code_c  crop_code_d  crop_code_e  \\\n",
       "0            1           34         12.0          NaN          NaN   \n",
       "1           12           38          NaN          NaN         28.0   \n",
       "2            1           28         38.0         42.0          NaN   \n",
       "\n",
       "                                            geometry    plot  \\\n",
       "0  POLYGON ((31.84260 -26.22430, 31.88170 -26.224...  plot_a   \n",
       "1  POLYGON ((31.74100 -26.23170, 31.77941 -26.231...  plot_b   \n",
       "2  POLYGON ((30.91640 -26.51040, 31.01532 -26.510...  plot_c   \n",
       "\n",
       "             unique_id     plot_area  maize_pos  \n",
       "0  3181202645407708829   3557.557707          1  \n",
       "1 -8537870585513493057   2586.645324          0  \n",
       "2  5979481494025301502  29229.646682          1  "
      ]
     },
     "execution_count": 15,
     "metadata": {},
     "output_type": "execute_result"
    }
   ],
   "source": [
    "# define codes which identify crop\n",
    "maize_codes = [1,2,3,4]\n",
    "# identify True/False whether crop code columns have maize codes; sum these True/False values to identify if any contained maize\n",
    "survey_gdf['maize_pos'] = survey_gdf.loc[:,('crop_code_a','crop_code_b','crop_code_c','crop_code_d','crop_code_e')].isin(maize_codes).sum(axis=1)\n",
    "survey_gdf"
   ]
  },
  {
   "cell_type": "code",
   "execution_count": 16,
   "id": "43df2ad8-b0b5-4bbc-82be-853598ae4ff2",
   "metadata": {},
   "outputs": [
    {
     "data": {
      "text/html": [
       "\n",
       "            <style>\n",
       "                .geemap-dark {\n",
       "                    --jp-widgets-color: white;\n",
       "                    --jp-widgets-label-color: white;\n",
       "                    --jp-ui-font-color1: white;\n",
       "                    --jp-layout-color2: #454545;\n",
       "                    background-color: #383838;\n",
       "                }\n",
       "                    \n",
       "                .geemap-dark .jupyter-button {\n",
       "                    --jp-layout-color3: #383838;\n",
       "                }\n",
       "                \n",
       "                .geemap-colab {\n",
       "                    background-color: var(--colab-primary-surface-color, white);\n",
       "                }\n",
       "                    \n",
       "                .geemap-colab .jupyter-button {\n",
       "                    --jp-layout-color3: var(--colab-primary-surface-color, white);\n",
       "                }\n",
       "            </style>\n",
       "            "
      ],
      "text/plain": [
       "<IPython.core.display.HTML object>"
      ]
     },
     "metadata": {},
     "output_type": "display_data"
    },
    {
     "data": {
      "application/vnd.jupyter.widget-view+json": {
       "model_id": "51dd4dfc0b944565a09f7022b5cb006c",
       "version_major": 2,
       "version_minor": 0
      },
      "text/plain": [
       "Map(center=[-26.497616, 31.355667], controls=(WidgetControl(options=['position', 'transparent_bg'], widget=Sea…"
      ]
     },
     "execution_count": 16,
     "metadata": {},
     "output_type": "execute_result"
    }
   ],
   "source": [
    "# Obtain level0 boundaries, filter for Malawi, convert to geometry\n",
    "swazi_geom = ee.Feature(ee.FeatureCollection(\"FAO/GAUL/2015/level0\").filter(ee.Filter.eq('ADM0_NAME', 'Swaziland')).geometry())\n",
    "\n",
    "# Visualize the area of Swaziland we created\n",
    "center_lat = -26.497616\n",
    "center_lon = 31.355667\n",
    "\n",
    "map_swazi = geemap.Map(center=[center_lat,center_lon],zoom=6)\n",
    "map_swazi.add_basemap('SATELLITE')\n",
    "map_swazi.addLayer(swazi_geom,vis_params={'color':'a4c639'},opacity=0.8)\n",
    "map_swazi"
   ]
  },
  {
   "cell_type": "code",
   "execution_count": 17,
   "id": "68caee62-dbaa-40ba-a27a-807a2fcd722c",
   "metadata": {},
   "outputs": [
    {
     "data": {
      "text/html": [
       "\n",
       "            <style>\n",
       "                .geemap-dark {\n",
       "                    --jp-widgets-color: white;\n",
       "                    --jp-widgets-label-color: white;\n",
       "                    --jp-ui-font-color1: white;\n",
       "                    --jp-layout-color2: #454545;\n",
       "                    background-color: #383838;\n",
       "                }\n",
       "                    \n",
       "                .geemap-dark .jupyter-button {\n",
       "                    --jp-layout-color3: #383838;\n",
       "                }\n",
       "                \n",
       "                .geemap-colab {\n",
       "                    background-color: var(--colab-primary-surface-color, white);\n",
       "                }\n",
       "                    \n",
       "                .geemap-colab .jupyter-button {\n",
       "                    --jp-layout-color3: var(--colab-primary-surface-color, white);\n",
       "                }\n",
       "            </style>\n",
       "            "
      ],
      "text/plain": [
       "<IPython.core.display.HTML object>"
      ]
     },
     "metadata": {},
     "output_type": "display_data"
    }
   ],
   "source": [
    "# import Azzari et al code\n",
    "import sys\n",
    "sys.path.append('D:/Sugarcane/eetc')\n",
    "\n",
    "from gee_tools.datasources import sentinel2_2a as s2_2a"
   ]
  },
  {
   "cell_type": "code",
   "execution_count": 18,
   "id": "693546e9-1ec5-4327-80b5-3d632da0b9a2",
   "metadata": {},
   "outputs": [
    {
     "data": {
      "text/html": [
       "\n",
       "            <style>\n",
       "                .geemap-dark {\n",
       "                    --jp-widgets-color: white;\n",
       "                    --jp-widgets-label-color: white;\n",
       "                    --jp-ui-font-color1: white;\n",
       "                    --jp-layout-color2: #454545;\n",
       "                    background-color: #383838;\n",
       "                }\n",
       "                    \n",
       "                .geemap-dark .jupyter-button {\n",
       "                    --jp-layout-color3: #383838;\n",
       "                }\n",
       "                \n",
       "                .geemap-colab {\n",
       "                    background-color: var(--colab-primary-surface-color, white);\n",
       "                }\n",
       "                    \n",
       "                .geemap-colab .jupyter-button {\n",
       "                    --jp-layout-color3: var(--colab-primary-surface-color, white);\n",
       "                }\n",
       "            </style>\n",
       "            "
      ],
      "text/plain": [
       "<IPython.core.display.HTML object>"
      ]
     },
     "metadata": {},
     "output_type": "display_data"
    }
   ],
   "source": [
    "# Obtain ImageCollection for specified area and dates with vegetation indices (addVIs) and cloud masks defined (addCloudMasks)\n",
    "# code from Azzari et al.\n",
    "s2coll_2a = s2_2a.Sentinel2SR(swazi_geom.geometry(), start_date = ee.Date('2018-04-01'), end_date = ee.Date('2019-09-30'), addVIs=True, addCloudMasks=False).get_img_coll()"
   ]
  },
  {
   "cell_type": "code",
   "execution_count": 19,
   "id": "1feaad25-91ec-48e2-a783-b5434f849299",
   "metadata": {},
   "outputs": [
    {
     "data": {
      "text/html": [
       "\n",
       "            <style>\n",
       "                .geemap-dark {\n",
       "                    --jp-widgets-color: white;\n",
       "                    --jp-widgets-label-color: white;\n",
       "                    --jp-ui-font-color1: white;\n",
       "                    --jp-layout-color2: #454545;\n",
       "                    background-color: #383838;\n",
       "                }\n",
       "                    \n",
       "                .geemap-dark .jupyter-button {\n",
       "                    --jp-layout-color3: #383838;\n",
       "                }\n",
       "                \n",
       "                .geemap-colab {\n",
       "                    background-color: var(--colab-primary-surface-color, white);\n",
       "                }\n",
       "                    \n",
       "                .geemap-colab .jupyter-button {\n",
       "                    --jp-layout-color3: var(--colab-primary-surface-color, white);\n",
       "                }\n",
       "            </style>\n",
       "            "
      ],
      "text/plain": [
       "<IPython.core.display.HTML object>"
      ]
     },
     "metadata": {},
     "output_type": "display_data"
    },
    {
     "name": "stdout",
     "output_type": "stream",
     "text": [
      "AEROS\n",
      "BLUE\n",
      "GREEN\n",
      "RED\n",
      "RDED1\n",
      "RDED2\n",
      "RDED3\n",
      "NIR\n",
      "RDED4\n",
      "VAPOR\n",
      "SWIR1\n",
      "SWIR2\n",
      "AOT\n",
      "WVP\n",
      "SCL\n",
      "TCI_R\n",
      "TCI_G\n",
      "TCI_B\n",
      "MSK_CLDPRB\n",
      "MSK_SNWPRB\n",
      "QA10\n",
      "QA20\n",
      "QA60\n",
      "NBR1\n",
      "NBR2\n",
      "STI\n",
      "NDTI\n",
      "CRC\n",
      "REIP\n",
      "GCVI\n",
      "RDGCVI1\n",
      "RDGCVI2\n",
      "MTCI\n",
      "MTCI2\n",
      "WDRVI\n",
      "GRWDRVI\n",
      "RDWDRVI\n",
      "RDNDVI1\n",
      "RDNDVI2\n",
      "NDVI\n",
      "SNDVI\n"
     ]
    }
   ],
   "source": [
    "for band in s2coll_2a.first().getInfo()['bands']:\n",
    "    print(band['id'])"
   ]
  },
  {
   "cell_type": "code",
   "execution_count": 20,
   "id": "fafedf0e-a998-4b7a-9406-9c09f8da71d6",
   "metadata": {},
   "outputs": [
    {
     "data": {
      "text/html": [
       "\n",
       "            <style>\n",
       "                .geemap-dark {\n",
       "                    --jp-widgets-color: white;\n",
       "                    --jp-widgets-label-color: white;\n",
       "                    --jp-ui-font-color1: white;\n",
       "                    --jp-layout-color2: #454545;\n",
       "                    background-color: #383838;\n",
       "                }\n",
       "                    \n",
       "                .geemap-dark .jupyter-button {\n",
       "                    --jp-layout-color3: #383838;\n",
       "                }\n",
       "                \n",
       "                .geemap-colab {\n",
       "                    background-color: var(--colab-primary-surface-color, white);\n",
       "                }\n",
       "                    \n",
       "                .geemap-colab .jupyter-button {\n",
       "                    --jp-layout-color3: var(--colab-primary-surface-color, white);\n",
       "                }\n",
       "            </style>\n",
       "            "
      ],
      "text/plain": [
       "<IPython.core.display.HTML object>"
      ]
     },
     "metadata": {},
     "output_type": "display_data"
    }
   ],
   "source": [
    "# Use Azzari et al's function to mask clouds\n",
    "def maskClouds_sr(img, bandnames):\n",
    "    scl = img.select(['SCL'])\n",
    "    clear = scl.updateMask(scl.eq(4) or (scl.eq(5)))\n",
    "    img = img.updateMask(clear)\n",
    "    return img.select(bandnames)"
   ]
  },
  {
   "cell_type": "code",
   "execution_count": 21,
   "id": "e1eeaa4b-5bbc-4b62-b2cb-b342089658f0",
   "metadata": {},
   "outputs": [
    {
     "data": {
      "text/html": [
       "\n",
       "            <style>\n",
       "                .geemap-dark {\n",
       "                    --jp-widgets-color: white;\n",
       "                    --jp-widgets-label-color: white;\n",
       "                    --jp-ui-font-color1: white;\n",
       "                    --jp-layout-color2: #454545;\n",
       "                    background-color: #383838;\n",
       "                }\n",
       "                    \n",
       "                .geemap-dark .jupyter-button {\n",
       "                    --jp-layout-color3: #383838;\n",
       "                }\n",
       "                \n",
       "                .geemap-colab {\n",
       "                    background-color: var(--colab-primary-surface-color, white);\n",
       "                }\n",
       "                    \n",
       "                .geemap-colab .jupyter-button {\n",
       "                    --jp-layout-color3: var(--colab-primary-surface-color, white);\n",
       "                }\n",
       "            </style>\n",
       "            "
      ],
      "text/plain": [
       "<IPython.core.display.HTML object>"
      ]
     },
     "metadata": {},
     "output_type": "display_data"
    }
   ],
   "source": [
    "# Define the bandames in the S2-2A data which we want to keep\n",
    "bandnames = ['AEROS','BLUE','GREEN','RED','RDED1','RDED2','RDED3','NIR','RDED4','VAPOR','SWIR1','SWIR2','NBR1','NDTI','GCVI','NDVI','SNDVI']\n",
    "# Mask clouds using the function above\n",
    "s2coll_2a = s2coll_2a.map(lambda img: maskClouds_sr(img, bandnames))"
   ]
  },
  {
   "cell_type": "code",
   "execution_count": 22,
   "id": "a78e0fb0-b7c6-433b-80f9-8b9684b53355",
   "metadata": {},
   "outputs": [
    {
     "data": {
      "text/html": [
       "\n",
       "            <style>\n",
       "                .geemap-dark {\n",
       "                    --jp-widgets-color: white;\n",
       "                    --jp-widgets-label-color: white;\n",
       "                    --jp-ui-font-color1: white;\n",
       "                    --jp-layout-color2: #454545;\n",
       "                    background-color: #383838;\n",
       "                }\n",
       "                    \n",
       "                .geemap-dark .jupyter-button {\n",
       "                    --jp-layout-color3: #383838;\n",
       "                }\n",
       "                \n",
       "                .geemap-colab {\n",
       "                    background-color: var(--colab-primary-surface-color, white);\n",
       "                }\n",
       "                    \n",
       "                .geemap-colab .jupyter-button {\n",
       "                    --jp-layout-color3: var(--colab-primary-surface-color, white);\n",
       "                }\n",
       "            </style>\n",
       "            "
      ],
      "text/plain": [
       "<IPython.core.display.HTML object>"
      ]
     },
     "metadata": {},
     "output_type": "display_data"
    },
    {
     "name": "stdout",
     "output_type": "stream",
     "text": [
      "AEROS\n",
      "BLUE\n",
      "GREEN\n",
      "RED\n",
      "RDED1\n",
      "RDED2\n",
      "RDED3\n",
      "NIR\n",
      "RDED4\n",
      "VAPOR\n",
      "SWIR1\n",
      "SWIR2\n",
      "NBR1\n",
      "NDTI\n",
      "GCVI\n",
      "NDVI\n",
      "SNDVI\n"
     ]
    }
   ],
   "source": [
    "for band in s2coll_2a.first().getInfo()['bands']:\n",
    "    print(band['id'])"
   ]
  },
  {
   "cell_type": "code",
   "execution_count": 23,
   "id": "1797d18e-5560-4b54-a9fc-f608d2d923ef",
   "metadata": {},
   "outputs": [
    {
     "data": {
      "text/html": [
       "\n",
       "            <style>\n",
       "                .geemap-dark {\n",
       "                    --jp-widgets-color: white;\n",
       "                    --jp-widgets-label-color: white;\n",
       "                    --jp-ui-font-color1: white;\n",
       "                    --jp-layout-color2: #454545;\n",
       "                    background-color: #383838;\n",
       "                }\n",
       "                    \n",
       "                .geemap-dark .jupyter-button {\n",
       "                    --jp-layout-color3: #383838;\n",
       "                }\n",
       "                \n",
       "                .geemap-colab {\n",
       "                    background-color: var(--colab-primary-surface-color, white);\n",
       "                }\n",
       "                    \n",
       "                .geemap-colab .jupyter-button {\n",
       "                    --jp-layout-color3: var(--colab-primary-surface-color, white);\n",
       "                }\n",
       "            </style>\n",
       "            "
      ],
      "text/plain": [
       "<IPython.core.display.HTML object>"
      ]
     },
     "metadata": {},
     "output_type": "display_data"
    },
    {
     "data": {
      "application/vnd.jupyter.widget-view+json": {
       "model_id": "02f04ec282974ecf8032a001e9df3c74",
       "version_major": 2,
       "version_minor": 0
      },
      "text/plain": [
       "Map(center=[-26.497616, 31.355667], controls=(WidgetControl(options=['position', 'transparent_bg'], widget=Sea…"
      ]
     },
     "execution_count": 23,
     "metadata": {},
     "output_type": "execute_result"
    }
   ],
   "source": [
    "# this is not a real plot from any survey data; it was randomly selected for demonstration\n",
    "center_lat = -26.497616\n",
    "center_lon = 31.355667\n",
    "\n",
    "gcvi_samp = s2coll_2a.select('GCVI').filterBounds(ee.Geometry.Point([center_lon,center_lat]).buffer(2000))\n",
    "\n",
    "map_point_g = geemap.Map(center=[center_lat,center_lon],zoom=11)\n",
    "map_point_g.add_basemap('SATELLITE')\n",
    "# set color range to use for GCVI levels: black is lowest, beginning at 0, through green as the highest, ending at 5\n",
    "gcvi_params = {'min': 0, 'max': 5, 'palette': ['black','red', 'orange', 'yellow', 'green']}\n",
    "\n",
    "map_point_g.addLayer(gcvi_samp, gcvi_params)\n",
    "map_point_g"
   ]
  },
  {
   "cell_type": "code",
   "execution_count": 24,
   "id": "f4a30894-11f9-4d6a-a2c6-a2b5b38c4fce",
   "metadata": {},
   "outputs": [
    {
     "data": {
      "text/html": [
       "\n",
       "            <style>\n",
       "                .geemap-dark {\n",
       "                    --jp-widgets-color: white;\n",
       "                    --jp-widgets-label-color: white;\n",
       "                    --jp-ui-font-color1: white;\n",
       "                    --jp-layout-color2: #454545;\n",
       "                    background-color: #383838;\n",
       "                }\n",
       "                    \n",
       "                .geemap-dark .jupyter-button {\n",
       "                    --jp-layout-color3: #383838;\n",
       "                }\n",
       "                \n",
       "                .geemap-colab {\n",
       "                    background-color: var(--colab-primary-surface-color, white);\n",
       "                }\n",
       "                    \n",
       "                .geemap-colab .jupyter-button {\n",
       "                    --jp-layout-color3: var(--colab-primary-surface-color, white);\n",
       "                }\n",
       "            </style>\n",
       "            "
      ],
      "text/plain": [
       "<IPython.core.display.HTML object>"
      ]
     },
     "metadata": {},
     "output_type": "display_data"
    }
   ],
   "source": [
    "sndvi = s2coll_2a.map(lambda img: img.expression(\n",
    "    '(NIR - RED) / (NIR + RED + 0.16)', {\n",
    "        'NIR': img.select('NIR'),\n",
    "        'RED': img.select('RED')\n",
    "    }).rename('SNDVI'))"
   ]
  },
  {
   "cell_type": "code",
   "execution_count": 25,
   "id": "cdbe0fbb-f9c5-4831-973d-a59a4bd64043",
   "metadata": {},
   "outputs": [
    {
     "data": {
      "text/html": [
       "\n",
       "            <style>\n",
       "                .geemap-dark {\n",
       "                    --jp-widgets-color: white;\n",
       "                    --jp-widgets-label-color: white;\n",
       "                    --jp-ui-font-color1: white;\n",
       "                    --jp-layout-color2: #454545;\n",
       "                    background-color: #383838;\n",
       "                }\n",
       "                    \n",
       "                .geemap-dark .jupyter-button {\n",
       "                    --jp-layout-color3: #383838;\n",
       "                }\n",
       "                \n",
       "                .geemap-colab {\n",
       "                    background-color: var(--colab-primary-surface-color, white);\n",
       "                }\n",
       "                    \n",
       "                .geemap-colab .jupyter-button {\n",
       "                    --jp-layout-color3: var(--colab-primary-surface-color, white);\n",
       "                }\n",
       "            </style>\n",
       "            "
      ],
      "text/plain": [
       "<IPython.core.display.HTML object>"
      ]
     },
     "metadata": {},
     "output_type": "display_data"
    }
   ],
   "source": [
    "# obtain extended timeframe for S2 SA imagery, if desired\n",
    "s2coll_2a_ext = s2_2a.Sentinel2SR(swazi_geom.geometry(), start_date = ee.Date('2018-04-01'), end_date = ee.Date('2019-09-30'), addVIs=True, addCloudMasks=False).get_img_coll()\n",
    "# Define the bandames in the S2-2A data which we want to keep\n",
    "bandnames = ['AEROS','BLUE','GREEN','RED','RDED1','RDED2','RDED3','NIR','RDED4','VAPOR','SWIR1','SWIR2','NBR1','NDTI','GCVI','NDVI','SNDVI']\n",
    "# Mask clouds\n",
    "s2coll_2a_ext = s2coll_2a_ext.map(lambda img: maskClouds_sr(img, bandnames))"
   ]
  },
  {
   "cell_type": "code",
   "execution_count": 26,
   "id": "aa400003-75da-4a66-b125-9a7684f33ca9",
   "metadata": {},
   "outputs": [
    {
     "data": {
      "text/html": [
       "\n",
       "            <style>\n",
       "                .geemap-dark {\n",
       "                    --jp-widgets-color: white;\n",
       "                    --jp-widgets-label-color: white;\n",
       "                    --jp-ui-font-color1: white;\n",
       "                    --jp-layout-color2: #454545;\n",
       "                    background-color: #383838;\n",
       "                }\n",
       "                    \n",
       "                .geemap-dark .jupyter-button {\n",
       "                    --jp-layout-color3: #383838;\n",
       "                }\n",
       "                \n",
       "                .geemap-colab {\n",
       "                    background-color: var(--colab-primary-surface-color, white);\n",
       "                }\n",
       "                    \n",
       "                .geemap-colab .jupyter-button {\n",
       "                    --jp-layout-color3: var(--colab-primary-surface-color, white);\n",
       "                }\n",
       "            </style>\n",
       "            "
      ],
      "text/plain": [
       "<IPython.core.display.HTML object>"
      ]
     },
     "metadata": {},
     "output_type": "display_data"
    }
   ],
   "source": [
    "# create point_g as earth engine point of interest for which to pull GCVI values\n",
    "# this is not a real plot from any survey data; it was randomly selected for demonstration\n",
    "ee_point_g = ee.Geometry.Point(31.355667,-26.497616)"
   ]
  },
  {
   "cell_type": "code",
   "execution_count": 27,
   "id": "c7775611-9e3a-4dba-a08c-57f20a5bd0f9",
   "metadata": {},
   "outputs": [
    {
     "data": {
      "text/html": [
       "\n",
       "            <style>\n",
       "                .geemap-dark {\n",
       "                    --jp-widgets-color: white;\n",
       "                    --jp-widgets-label-color: white;\n",
       "                    --jp-ui-font-color1: white;\n",
       "                    --jp-layout-color2: #454545;\n",
       "                    background-color: #383838;\n",
       "                }\n",
       "                    \n",
       "                .geemap-dark .jupyter-button {\n",
       "                    --jp-layout-color3: #383838;\n",
       "                }\n",
       "                \n",
       "                .geemap-colab {\n",
       "                    background-color: var(--colab-primary-surface-color, white);\n",
       "                }\n",
       "                    \n",
       "                .geemap-colab .jupyter-button {\n",
       "                    --jp-layout-color3: var(--colab-primary-surface-color, white);\n",
       "                }\n",
       "            </style>\n",
       "            "
      ],
      "text/plain": [
       "<IPython.core.display.HTML object>"
      ]
     },
     "metadata": {},
     "output_type": "display_data"
    },
    {
     "data": {
      "application/vnd.jupyter.widget-view+json": {
       "model_id": "317d893bc4614d90a0ac8ab9df8d54ac",
       "version_major": 2,
       "version_minor": 0
      },
      "text/plain": [
       "Map(center=[-26.497616, 31.355667], controls=(WidgetControl(options=['position', 'transparent_bg'], widget=Sea…"
      ]
     },
     "execution_count": 27,
     "metadata": {},
     "output_type": "execute_result"
    }
   ],
   "source": [
    "map_point_g = geemap.Map(center=[-26.497616, 31.355667],zoom=14)\n",
    "\n",
    "map_point_g.add_basemap('SATELLITE')\n",
    "map_point_g.addLayer(ee_point_g, vis_params={'color':'a4c639'})\n",
    "map_point_g"
   ]
  },
  {
   "cell_type": "code",
   "execution_count": 28,
   "id": "59843ae8-e5de-4653-91aa-0592e84ed8a0",
   "metadata": {},
   "outputs": [
    {
     "data": {
      "text/html": [
       "\n",
       "            <style>\n",
       "                .geemap-dark {\n",
       "                    --jp-widgets-color: white;\n",
       "                    --jp-widgets-label-color: white;\n",
       "                    --jp-ui-font-color1: white;\n",
       "                    --jp-layout-color2: #454545;\n",
       "                    background-color: #383838;\n",
       "                }\n",
       "                    \n",
       "                .geemap-dark .jupyter-button {\n",
       "                    --jp-layout-color3: #383838;\n",
       "                }\n",
       "                \n",
       "                .geemap-colab {\n",
       "                    background-color: var(--colab-primary-surface-color, white);\n",
       "                }\n",
       "                    \n",
       "                .geemap-colab .jupyter-button {\n",
       "                    --jp-layout-color3: var(--colab-primary-surface-color, white);\n",
       "                }\n",
       "            </style>\n",
       "            "
      ],
      "text/plain": [
       "<IPython.core.display.HTML object>"
      ]
     },
     "metadata": {},
     "output_type": "display_data"
    }
   ],
   "source": [
    "# create list of all image timestamps\n",
    "def create_timestamp_list(imgcoll): \n",
    "    \"\"\"\n",
    "    Create list of timestamps for all Images in ImageCollection\n",
    "    Inputs:\n",
    "        imgcoll (ImageCollection): ImageCollection to be processed\n",
    "    Returns (list): list of all timestamps of Images\n",
    "    \"\"\"\n",
    "    ts_list = ee.List(imgcoll \\\n",
    "    .aggregate_array('system:time_start')) \\\n",
    "    .map(lambda time_start: \n",
    "         ee.Date(time_start).format('Y-MM-dd HH:mm:ss')\n",
    "    ) \\\n",
    "    .getInfo()\n",
    "\n",
    "    return ts_list\n",
    "\n",
    "# create list of all image indices; attach suffix to match\n",
    "# band name format which will be applied once .toBands() is applied\n",
    "def create_band_list(imgcoll, suffix):\n",
    "    \"\"\"\n",
    "    Create list of all indices for Images in ImageCollection\n",
    "    Inputs:\n",
    "        imgcoll (ImageCollection): ImageCollection to be processed\n",
    "        suffix (str): string in the form '_' + bandname (eg, '_GCVI')\n",
    "            to add to each Image system:index. This is done to match the\n",
    "            naming convention which will be used in .toBands() to convert\n",
    "            ImageCollection into single Image\n",
    "    Returns (list): list of all bands which will be in Image\n",
    "        created from ImageCollection.toBands()\n",
    "    \"\"\"\n",
    "    band_list = ee.List(imgcoll \\\n",
    "    .aggregate_array('system:index')) \\\n",
    "    .getInfo()\n",
    "\n",
    "    band_list = [band + suffix for band in band_list]\n",
    "\n",
    "    return band_list\n",
    "\n",
    "def sample_lists(list, every_x):\n",
    "    \"\"\"\n",
    "    Reduces list size to every x-th item, maintaining temporal order\n",
    "    Inputs:\n",
    "        list (list): list of dates or bands to sample\n",
    "        every_x (int): specifies how many items from list to keep\n",
    "    Returns (list): sample of original list\n",
    "    \"\"\"\n",
    "    # create list of every xth item from list\n",
    "    list_samp = list[0::every_x]\n",
    "    \n",
    "    return list_samp\n",
    "\n",
    "# create dataframe with pixel values and timestamps\n",
    "def extract_pixel_vals_dates(imgcoll, band, ee_point, \\\n",
    "    band_list=None, time_list=None, sample=None):\n",
    "    \"\"\"\n",
    "    Extract the pixel values and timestamp for the specified band of \n",
    "        every image in an ImageCollection.\n",
    "    Inputs:\n",
    "        imgcoll (ImageCollection): ImageCollection containing band of interest\n",
    "            over time range\n",
    "        band (str): name of band to find values for from ImageCollection\n",
    "        ee_point (ee.Geometry.Point): point location for which to find band values\n",
    "        band_list (list or None): if same ImageCollection has already been processed,\n",
    "            can use created band_list of unmasked Images to avoid re-checking all\n",
    "            Images for clouds. If None, band_list is created as list of every band in\n",
    "            the Image created from original ImageCollection\n",
    "        time_list (list or None): if same ImageCollection has already been processed,\n",
    "            can use created time_list of unmasked Images to avoid re-checking all\n",
    "            Images for clouds. If None, time_list is created as list of timestamp\n",
    "            for every band in the Image created from original ImageCollection\n",
    "        sample (int or None): if provided, sample ImageCollection Images to only\n",
    "            process every x-th image. If None, full ImageCollection is processed.\n",
    "    Returns (DataFrame): Pandas DataFrame containing timestamp, band values, and band_ids\n",
    "        for each unmasked pixel\n",
    "    \"\"\"\n",
    "\n",
    "    # extract band of interest from image collection\n",
    "    print('selecting band of interest', band,'from imagecollection')\n",
    "    band_coll = imgcoll.select(band)\n",
    "\n",
    "    # filter imagecollection for only images containing point\n",
    "    print('filtering for only images containing point')\n",
    "    point_coll = band_coll.filterBounds(ee_point)\n",
    "\n",
    "    if not band_list:\n",
    "        # create list of images in point_coll\n",
    "        suffix = \"_\" + band\n",
    "        print('adding suffix',suffix,'to band name and creating list of bands')\n",
    "        band_list = create_band_list(point_coll, suffix)\n",
    "    print(\n",
    "    \"\"\"\n",
    "    number of ids in list:   {}\n",
    "    \n",
    "    first 5 ids in list:     {}\n",
    "    \"\"\".format(\n",
    "        len(band_list),\n",
    "        band_list[0:5]\n",
    "    ))\n",
    "\n",
    "    if not time_list:\n",
    "        # create list of timestamps for images in point_coll\n",
    "        print('creating list of timestamps')\n",
    "        time_list = create_timestamp_list(point_coll)\n",
    "    print(\n",
    "    \"\"\"\n",
    "    number of dates in list:   {}\n",
    "\n",
    "    first 5 dates in list:     {}\n",
    "    \"\"\".format(\n",
    "        len(time_list),\n",
    "        time_list[0:5]\n",
    "    ))\n",
    "\n",
    "    if sample:\n",
    "        # sample band and time list to only process some images\n",
    "        print('generating sample of images to process')\n",
    "        band_list = sample_lists(band_list, sample)\n",
    "        time_list = sample_lists(time_list, sample)\n",
    "\n",
    "    # collapse point_coll into single image with multiple bands\n",
    "    print('creating single image from imagecollection')\n",
    "    point_img = point_coll.toBands()\n",
    "\n",
    "    # create empty dictionary to store timestamps and values in\n",
    "    time_pixel_vals = pd.DataFrame(columns=['datetime',band,'band_id'])\n",
    "    print('created empty dataframe',time_pixel_vals.head())\n",
    "\n",
    "    # loop through list we created to process each band\n",
    "    for idx, band_id in enumerate(band_list):\n",
    "        # select band by id\n",
    "        img = point_img.select(band_id)\n",
    "        if img.mask().reduceRegion(ee.Reducer.first(),ee_point).getInfo()[band_id] != 0:\n",
    "            # obtain the start time associated with the current band\n",
    "            time_start = time_list[idx]\n",
    "            print('getting pixel values for img from',time_start,'...')\n",
    "            \n",
    "            # extract values for band as numpy array\n",
    "            pixel_vals = img.reduceRegion(ee.Reducer.first(),ee_point).getInfo()[band_id]\n",
    "\n",
    "            # add to dictionary with time as key and array as value\n",
    "            \n",
    "\n",
    "           # Initialize an empty DataFrame\n",
    "            time_pixel_vals = pd.DataFrame(columns=['datetime', band, 'band_id'])  \n",
    "\n",
    "          # Display the empty DataFrame to verify its structure\n",
    "            print('created empty DataFrame:', time_pixel_vals.head())\n",
    "\n",
    "\n",
    "        else:\n",
    "            print('masked pixel, moving on to next image')    \n",
    "    \n",
    "    return time_pixel_vals"
   ]
  },
  {
   "cell_type": "code",
   "execution_count": 29,
   "id": "8c999f72-ccc0-4ae2-af81-236ad83d3f77",
   "metadata": {},
   "outputs": [
    {
     "data": {
      "text/html": [
       "\n",
       "            <style>\n",
       "                .geemap-dark {\n",
       "                    --jp-widgets-color: white;\n",
       "                    --jp-widgets-label-color: white;\n",
       "                    --jp-ui-font-color1: white;\n",
       "                    --jp-layout-color2: #454545;\n",
       "                    background-color: #383838;\n",
       "                }\n",
       "                    \n",
       "                .geemap-dark .jupyter-button {\n",
       "                    --jp-layout-color3: #383838;\n",
       "                }\n",
       "                \n",
       "                .geemap-colab {\n",
       "                    background-color: var(--colab-primary-surface-color, white);\n",
       "                }\n",
       "                    \n",
       "                .geemap-colab .jupyter-button {\n",
       "                    --jp-layout-color3: var(--colab-primary-surface-color, white);\n",
       "                }\n",
       "            </style>\n",
       "            "
      ],
      "text/plain": [
       "<IPython.core.display.HTML object>"
      ]
     },
     "metadata": {},
     "output_type": "display_data"
    },
    {
     "name": "stdout",
     "output_type": "stream",
     "text": [
      "selecting band of interest GCVI from imagecollection\n",
      "filtering for only images containing point\n",
      "adding suffix _GCVI to band name and creating list of bands\n",
      "\n",
      "    number of ids in list:   57\n",
      "    \n",
      "    first 5 ids in list:     ['20181215T074319_20181215T080534_T36JUR_GCVI', '20181220T074321_20181220T080133_T36JUR_GCVI', '20181225T074329_20181225T080037_T36JUR_GCVI', '20181230T074321_20181230T080132_T36JUR_GCVI', '20190104T074319_20190104T080647_T36JUR_GCVI']\n",
      "    \n",
      "creating list of timestamps\n",
      "\n",
      "    number of dates in list:   57\n",
      "\n",
      "    first 5 dates in list:     ['2018-12-15 08:07:24', '2018-12-20 08:07:22', '2018-12-25 08:07:26', '2018-12-30 08:07:24', '2019-01-04 08:07:28']\n",
      "    \n",
      "creating single image from imagecollection\n",
      "created empty dataframe Empty DataFrame\n",
      "Columns: [datetime, GCVI, band_id]\n",
      "Index: []\n",
      "getting pixel values for img from 2018-12-15 08:07:24 ...\n",
      "created empty DataFrame: Empty DataFrame\n",
      "Columns: [datetime, GCVI, band_id]\n",
      "Index: []\n",
      "masked pixel, moving on to next image\n",
      "getting pixel values for img from 2018-12-25 08:07:26 ...\n",
      "created empty DataFrame: Empty DataFrame\n",
      "Columns: [datetime, GCVI, band_id]\n",
      "Index: []\n",
      "masked pixel, moving on to next image\n",
      "masked pixel, moving on to next image\n",
      "masked pixel, moving on to next image\n",
      "masked pixel, moving on to next image\n",
      "masked pixel, moving on to next image\n",
      "masked pixel, moving on to next image\n",
      "masked pixel, moving on to next image\n",
      "masked pixel, moving on to next image\n",
      "getting pixel values for img from 2019-02-08 08:07:27 ...\n",
      "created empty DataFrame: Empty DataFrame\n",
      "Columns: [datetime, GCVI, band_id]\n",
      "Index: []\n",
      "masked pixel, moving on to next image\n",
      "masked pixel, moving on to next image\n",
      "getting pixel values for img from 2019-02-23 08:07:29 ...\n",
      "created empty DataFrame: Empty DataFrame\n",
      "Columns: [datetime, GCVI, band_id]\n",
      "Index: []\n",
      "masked pixel, moving on to next image\n",
      "masked pixel, moving on to next image\n",
      "masked pixel, moving on to next image\n",
      "masked pixel, moving on to next image\n",
      "getting pixel values for img from 2019-03-20 08:07:28 ...\n",
      "created empty DataFrame: Empty DataFrame\n",
      "Columns: [datetime, GCVI, band_id]\n",
      "Index: []\n",
      "getting pixel values for img from 2019-03-25 08:07:31 ...\n",
      "created empty DataFrame: Empty DataFrame\n",
      "Columns: [datetime, GCVI, band_id]\n",
      "Index: []\n",
      "masked pixel, moving on to next image\n",
      "getting pixel values for img from 2019-04-04 08:07:33 ...\n",
      "created empty DataFrame: Empty DataFrame\n",
      "Columns: [datetime, GCVI, band_id]\n",
      "Index: []\n",
      "getting pixel values for img from 2019-04-09 08:07:32 ...\n",
      "created empty DataFrame: Empty DataFrame\n",
      "Columns: [datetime, GCVI, band_id]\n",
      "Index: []\n",
      "getting pixel values for img from 2019-04-14 08:07:35 ...\n",
      "created empty DataFrame: Empty DataFrame\n",
      "Columns: [datetime, GCVI, band_id]\n",
      "Index: []\n",
      "getting pixel values for img from 2019-04-19 08:07:33 ...\n",
      "created empty DataFrame: Empty DataFrame\n",
      "Columns: [datetime, GCVI, band_id]\n",
      "Index: []\n",
      "masked pixel, moving on to next image\n",
      "getting pixel values for img from 2019-04-29 08:07:34 ...\n",
      "created empty DataFrame: Empty DataFrame\n",
      "Columns: [datetime, GCVI, band_id]\n",
      "Index: []\n",
      "masked pixel, moving on to next image\n",
      "getting pixel values for img from 2019-05-09 08:07:34 ...\n",
      "created empty DataFrame: Empty DataFrame\n",
      "Columns: [datetime, GCVI, band_id]\n",
      "Index: []\n",
      "masked pixel, moving on to next image\n",
      "masked pixel, moving on to next image\n",
      "masked pixel, moving on to next image\n",
      "masked pixel, moving on to next image\n",
      "masked pixel, moving on to next image\n",
      "masked pixel, moving on to next image\n",
      "masked pixel, moving on to next image\n",
      "masked pixel, moving on to next image\n",
      "masked pixel, moving on to next image\n",
      "masked pixel, moving on to next image\n",
      "masked pixel, moving on to next image\n",
      "masked pixel, moving on to next image\n",
      "masked pixel, moving on to next image\n",
      "masked pixel, moving on to next image\n",
      "masked pixel, moving on to next image\n",
      "masked pixel, moving on to next image\n",
      "masked pixel, moving on to next image\n",
      "masked pixel, moving on to next image\n",
      "masked pixel, moving on to next image\n",
      "masked pixel, moving on to next image\n",
      "masked pixel, moving on to next image\n",
      "masked pixel, moving on to next image\n",
      "masked pixel, moving on to next image\n",
      "masked pixel, moving on to next image\n",
      "masked pixel, moving on to next image\n",
      "masked pixel, moving on to next image\n",
      "masked pixel, moving on to next image\n"
     ]
    }
   ],
   "source": [
    "# use function to obtain GCVI values for point f over time\n",
    "# NOTE: this will take time to run, especially with 50+ Images\n",
    "gcvi_time_pixel_vals = extract_pixel_vals_dates(s2coll_2a_ext, 'GCVI', ee_point_g)"
   ]
  },
  {
   "cell_type": "code",
   "execution_count": 30,
   "id": "dcf9fa9b-3c8b-4382-8099-f9ff0c98feb4",
   "metadata": {},
   "outputs": [
    {
     "data": {
      "text/html": [
       "\n",
       "            <style>\n",
       "                .geemap-dark {\n",
       "                    --jp-widgets-color: white;\n",
       "                    --jp-widgets-label-color: white;\n",
       "                    --jp-ui-font-color1: white;\n",
       "                    --jp-layout-color2: #454545;\n",
       "                    background-color: #383838;\n",
       "                }\n",
       "                    \n",
       "                .geemap-dark .jupyter-button {\n",
       "                    --jp-layout-color3: #383838;\n",
       "                }\n",
       "                \n",
       "                .geemap-colab {\n",
       "                    background-color: var(--colab-primary-surface-color, white);\n",
       "                }\n",
       "                    \n",
       "                .geemap-colab .jupyter-button {\n",
       "                    --jp-layout-color3: var(--colab-primary-surface-color, white);\n",
       "                }\n",
       "            </style>\n",
       "            "
      ],
      "text/plain": [
       "<IPython.core.display.HTML object>"
      ]
     },
     "metadata": {},
     "output_type": "display_data"
    },
    {
     "data": {
      "text/html": [
       "<div>\n",
       "<style scoped>\n",
       "    .dataframe tbody tr th:only-of-type {\n",
       "        vertical-align: middle;\n",
       "    }\n",
       "\n",
       "    .dataframe tbody tr th {\n",
       "        vertical-align: top;\n",
       "    }\n",
       "\n",
       "    .dataframe thead th {\n",
       "        text-align: right;\n",
       "    }\n",
       "</style>\n",
       "<table border=\"1\" class=\"dataframe\">\n",
       "  <thead>\n",
       "    <tr style=\"text-align: right;\">\n",
       "      <th></th>\n",
       "      <th>datetime</th>\n",
       "      <th>GCVI</th>\n",
       "      <th>band_id</th>\n",
       "    </tr>\n",
       "  </thead>\n",
       "  <tbody>\n",
       "  </tbody>\n",
       "</table>\n",
       "</div>"
      ],
      "text/plain": [
       "Empty DataFrame\n",
       "Columns: [datetime, GCVI, band_id]\n",
       "Index: []"
      ]
     },
     "execution_count": 30,
     "metadata": {},
     "output_type": "execute_result"
    }
   ],
   "source": [
    "# visualize first five rows of created dataset\n",
    "gcvi_time_pixel_vals.head()"
   ]
  },
  {
   "cell_type": "code",
   "execution_count": 31,
   "id": "a5d73f9c-7225-45ab-8fdd-286b91fe505a",
   "metadata": {},
   "outputs": [
    {
     "data": {
      "text/html": [
       "\n",
       "            <style>\n",
       "                .geemap-dark {\n",
       "                    --jp-widgets-color: white;\n",
       "                    --jp-widgets-label-color: white;\n",
       "                    --jp-ui-font-color1: white;\n",
       "                    --jp-layout-color2: #454545;\n",
       "                    background-color: #383838;\n",
       "                }\n",
       "                    \n",
       "                .geemap-dark .jupyter-button {\n",
       "                    --jp-layout-color3: #383838;\n",
       "                }\n",
       "                \n",
       "                .geemap-colab {\n",
       "                    background-color: var(--colab-primary-surface-color, white);\n",
       "                }\n",
       "                    \n",
       "                .geemap-colab .jupyter-button {\n",
       "                    --jp-layout-color3: var(--colab-primary-surface-color, white);\n",
       "                }\n",
       "            </style>\n",
       "            "
      ],
      "text/plain": [
       "<IPython.core.display.HTML object>"
      ]
     },
     "metadata": {},
     "output_type": "display_data"
    }
   ],
   "source": [
    "# save pixel values to file for easier repeated use\n",
    "gcvi_time_pixel_vals.to_csv('gcvi_time_pixel_vals_ext_pointg.csv',index=False)"
   ]
  },
  {
   "cell_type": "code",
   "execution_count": 32,
   "id": "55d9e3dd-ea71-41a2-817c-dec2ef06784e",
   "metadata": {},
   "outputs": [
    {
     "data": {
      "text/html": [
       "\n",
       "            <style>\n",
       "                .geemap-dark {\n",
       "                    --jp-widgets-color: white;\n",
       "                    --jp-widgets-label-color: white;\n",
       "                    --jp-ui-font-color1: white;\n",
       "                    --jp-layout-color2: #454545;\n",
       "                    background-color: #383838;\n",
       "                }\n",
       "                    \n",
       "                .geemap-dark .jupyter-button {\n",
       "                    --jp-layout-color3: #383838;\n",
       "                }\n",
       "                \n",
       "                .geemap-colab {\n",
       "                    background-color: var(--colab-primary-surface-color, white);\n",
       "                }\n",
       "                    \n",
       "                .geemap-colab .jupyter-button {\n",
       "                    --jp-layout-color3: var(--colab-primary-surface-color, white);\n",
       "                }\n",
       "            </style>\n",
       "            "
      ],
      "text/plain": [
       "<IPython.core.display.HTML object>"
      ]
     },
     "metadata": {},
     "output_type": "display_data"
    },
    {
     "data": {
      "text/html": [
       "<div>\n",
       "<style scoped>\n",
       "    .dataframe tbody tr th:only-of-type {\n",
       "        vertical-align: middle;\n",
       "    }\n",
       "\n",
       "    .dataframe tbody tr th {\n",
       "        vertical-align: top;\n",
       "    }\n",
       "\n",
       "    .dataframe thead th {\n",
       "        text-align: right;\n",
       "    }\n",
       "</style>\n",
       "<table border=\"1\" class=\"dataframe\">\n",
       "  <thead>\n",
       "    <tr style=\"text-align: right;\">\n",
       "      <th></th>\n",
       "      <th>date</th>\n",
       "      <th>GCVI</th>\n",
       "    </tr>\n",
       "  </thead>\n",
       "  <tbody>\n",
       "  </tbody>\n",
       "</table>\n",
       "</div>"
      ],
      "text/plain": [
       "Empty DataFrame\n",
       "Columns: [date, GCVI]\n",
       "Index: []"
      ]
     },
     "execution_count": 32,
     "metadata": {},
     "output_type": "execute_result"
    }
   ],
   "source": [
    "from datetime import date\n",
    "\n",
    "# convert to datetime type\n",
    "gcvi_time_pixel_vals['datetime'] = pd.to_datetime(gcvi_time_pixel_vals['datetime'])\n",
    "\n",
    "# create date field from datetime\n",
    "gcvi_time_pixel_vals['date'] = gcvi_time_pixel_vals['datetime'].dt.date\n",
    "# group by date and take mean GCVI for each day\n",
    "gcvi_day_pixel_df = gcvi_time_pixel_vals.groupby('date')['GCVI'].mean().reset_index()\n",
    "# view newly created dataset by day\n",
    "gcvi_day_pixel_df.head()"
   ]
  },
  {
   "cell_type": "code",
   "execution_count": 33,
   "id": "879da0e4-0f92-4d08-8541-eae48eee0872",
   "metadata": {},
   "outputs": [
    {
     "data": {
      "text/html": [
       "\n",
       "            <style>\n",
       "                .geemap-dark {\n",
       "                    --jp-widgets-color: white;\n",
       "                    --jp-widgets-label-color: white;\n",
       "                    --jp-ui-font-color1: white;\n",
       "                    --jp-layout-color2: #454545;\n",
       "                    background-color: #383838;\n",
       "                }\n",
       "                    \n",
       "                .geemap-dark .jupyter-button {\n",
       "                    --jp-layout-color3: #383838;\n",
       "                }\n",
       "                \n",
       "                .geemap-colab {\n",
       "                    background-color: var(--colab-primary-surface-color, white);\n",
       "                }\n",
       "                    \n",
       "                .geemap-colab .jupyter-button {\n",
       "                    --jp-layout-color3: var(--colab-primary-surface-color, white);\n",
       "                }\n",
       "            </style>\n",
       "            "
      ],
      "text/plain": [
       "<IPython.core.display.HTML object>"
      ]
     },
     "metadata": {},
     "output_type": "display_data"
    },
    {
     "data": {
      "text/plain": [
       "Text(0.5, 0, 'Date')"
      ]
     },
     "execution_count": 33,
     "metadata": {},
     "output_type": "execute_result"
    },
    {
     "data": {
      "image/png": "[encoded data removed]",
      "text/plain": [
       "<Figure size 1200x800 with 1 Axes>"
      ]
     },
     "metadata": {},
     "output_type": "display_data"
    }
   ],
   "source": [
    "import matplotlib.pyplot as plt\n",
    "import seaborn as sns\n",
    "import matplotlib.dates as mdates\n",
    "sns.set(style='whitegrid')\n",
    "\n",
    "f,ax=plt.subplots(1,1, figsize=(12,8))\n",
    "\n",
    "line = sns.lineplot(x='date',y='GCVI',data=gcvi_day_pixel_df,ax=ax)\n",
    "ax.set_title('GCVI for Point over Time Frame')\n",
    "\n",
    "ax.set_ylabel('GCVI')\n",
    "ax.set_xlabel('Date')"
   ]
  },
  {
   "cell_type": "code",
   "execution_count": 34,
   "id": "0876fd75-9062-43b2-8c72-a8fc27927a4c",
   "metadata": {},
   "outputs": [
    {
     "data": {
      "text/html": [
       "\n",
       "            <style>\n",
       "                .geemap-dark {\n",
       "                    --jp-widgets-color: white;\n",
       "                    --jp-widgets-label-color: white;\n",
       "                    --jp-ui-font-color1: white;\n",
       "                    --jp-layout-color2: #454545;\n",
       "                    background-color: #383838;\n",
       "                }\n",
       "                    \n",
       "                .geemap-dark .jupyter-button {\n",
       "                    --jp-layout-color3: #383838;\n",
       "                }\n",
       "                \n",
       "                .geemap-colab {\n",
       "                    background-color: var(--colab-primary-surface-color, white);\n",
       "                }\n",
       "                    \n",
       "                .geemap-colab .jupyter-button {\n",
       "                    --jp-layout-color3: var(--colab-primary-surface-color, white);\n",
       "                }\n",
       "            </style>\n",
       "            "
      ],
      "text/plain": [
       "<IPython.core.display.HTML object>"
      ]
     },
     "metadata": {},
     "output_type": "display_data"
    }
   ],
   "source": [
    "# Import code we'll use from Azzari et al.\n",
    "import sys\n",
    "sys.path.append('D:/Sugarcane/eetc')\n",
    "\n",
    "from eetc.gee_tools import harmonics\n",
    "\n",
    "# Filter for only our index of interest in this example, GCVI\n",
    "gcvi = s2coll_2a.select('GCVI')\n",
    "# Specify band in the ImageCollection we want to use in regression\n",
    "dep_bands = ['GCVI']\n",
    "\n",
    "# Run the regression to produce an image with our terms as bands; using first day of growing season as refdate\n",
    "hrmregr_coefs_gcvi = harmonics.run_std_regressions(gcvi,dep_bands,refdate='2018-10-20')"
   ]
  },
  {
   "cell_type": "code",
   "execution_count": 35,
   "id": "909ab249-428d-418d-b7ab-ec14d61d44c0",
   "metadata": {},
   "outputs": [
    {
     "data": {
      "text/html": [
       "\n",
       "            <style>\n",
       "                .geemap-dark {\n",
       "                    --jp-widgets-color: white;\n",
       "                    --jp-widgets-label-color: white;\n",
       "                    --jp-ui-font-color1: white;\n",
       "                    --jp-layout-color2: #454545;\n",
       "                    background-color: #383838;\n",
       "                }\n",
       "                    \n",
       "                .geemap-dark .jupyter-button {\n",
       "                    --jp-layout-color3: #383838;\n",
       "                }\n",
       "                \n",
       "                .geemap-colab {\n",
       "                    background-color: var(--colab-primary-surface-color, white);\n",
       "                }\n",
       "                    \n",
       "                .geemap-colab .jupyter-button {\n",
       "                    --jp-layout-color3: var(--colab-primary-surface-color, white);\n",
       "                }\n",
       "            </style>\n",
       "            "
      ],
      "text/plain": [
       "<IPython.core.display.HTML object>"
      ]
     },
     "metadata": {},
     "output_type": "display_data"
    },
    {
     "name": "stdout",
     "output_type": "stream",
     "text": [
      "GCVI_sin2\n",
      "GCVI_cos2\n",
      "GCVI_sin1\n",
      "GCVI_cos1\n",
      "GCVI_t\n",
      "GCVI_constant\n",
      "GCVI_variance\n",
      "GCVI_count\n",
      "GCVI_mean\n",
      "GCVI_rmse\n",
      "GCVI_r2\n"
     ]
    }
   ],
   "source": [
    "# Cycle through the bands to see our result\n",
    "for band in hrmregr_coefs_gcvi.getInfo()['bands']:\n",
    "    print(band['id'])"
   ]
  },
  {
   "cell_type": "code",
   "execution_count": 36,
   "id": "59724b3f-abc4-4836-b236-226744df4476",
   "metadata": {},
   "outputs": [
    {
     "data": {
      "text/html": [
       "\n",
       "            <style>\n",
       "                .geemap-dark {\n",
       "                    --jp-widgets-color: white;\n",
       "                    --jp-widgets-label-color: white;\n",
       "                    --jp-ui-font-color1: white;\n",
       "                    --jp-layout-color2: #454545;\n",
       "                    background-color: #383838;\n",
       "                }\n",
       "                    \n",
       "                .geemap-dark .jupyter-button {\n",
       "                    --jp-layout-color3: #383838;\n",
       "                }\n",
       "                \n",
       "                .geemap-colab {\n",
       "                    background-color: var(--colab-primary-surface-color, white);\n",
       "                }\n",
       "                    \n",
       "                .geemap-colab .jupyter-button {\n",
       "                    --jp-layout-color3: var(--colab-primary-surface-color, white);\n",
       "                }\n",
       "            </style>\n",
       "            "
      ],
      "text/plain": [
       "<IPython.core.display.HTML object>"
      ]
     },
     "metadata": {},
     "output_type": "display_data"
    },
    {
     "data": {
      "text/plain": [
       "{'type': 'FeatureCollection',\n",
       " 'columns': {'system:index': 'String', 'unique_id': 'Long'},\n",
       " 'features': [{'type': 'Feature',\n",
       "   'geometry': {'type': 'Polygon',\n",
       "    'coordinates': [[[31.8426, -26.2243],\n",
       "      [31.8817, -26.2243],\n",
       "      [31.8817, -26.19103],\n",
       "      [31.8426, -26.19103],\n",
       "      [31.8426, -26.2243]]]},\n",
       "   'id': '0',\n",
       "   'properties': {'unique_id': 3.1812026454077087e+18}},\n",
       "  {'type': 'Feature',\n",
       "   'geometry': {'type': 'Polygon',\n",
       "    'coordinates': [[[31.741, -26.2317],\n",
       "      [31.77941, -26.2317],\n",
       "      [31.77941, -26.2071],\n",
       "      [31.74096, -26.2071],\n",
       "      [31.74096, -26.2317],\n",
       "      [31.741, -26.2317]]]},\n",
       "   'id': '1',\n",
       "   'properties': {'unique_id': -8.537870585513494e+18}},\n",
       "  {'type': 'Feature',\n",
       "   'geometry': {'type': 'Polygon',\n",
       "    'coordinates': [[[30.9164, -26.5104],\n",
       "      [31.01532, -26.5104],\n",
       "      [31.01532, -26.4022],\n",
       "      [30.9164, -26.4022],\n",
       "      [30.9164, -26.5104]]]},\n",
       "   'id': '2',\n",
       "   'properties': {'unique_id': 5.979481494025301e+18}}]}"
      ]
     },
     "execution_count": 36,
     "metadata": {},
     "output_type": "execute_result"
    }
   ],
   "source": [
    "ee_plots_gdf = geemap.geopandas_to_ee(survey_gdf.loc[:,('unique_id','geometry')])\n",
    "ee_plots_gdf.getInfo()"
   ]
  },
  {
   "cell_type": "code",
   "execution_count": 37,
   "id": "769aff39-4d16-4adf-a3c5-e0d7e9e70583",
   "metadata": {},
   "outputs": [
    {
     "data": {
      "text/html": [
       "\n",
       "            <style>\n",
       "                .geemap-dark {\n",
       "                    --jp-widgets-color: white;\n",
       "                    --jp-widgets-label-color: white;\n",
       "                    --jp-ui-font-color1: white;\n",
       "                    --jp-layout-color2: #454545;\n",
       "                    background-color: #383838;\n",
       "                }\n",
       "                    \n",
       "                .geemap-dark .jupyter-button {\n",
       "                    --jp-layout-color3: #383838;\n",
       "                }\n",
       "                \n",
       "                .geemap-colab {\n",
       "                    background-color: var(--colab-primary-surface-color, white);\n",
       "                }\n",
       "                    \n",
       "                .geemap-colab .jupyter-button {\n",
       "                    --jp-layout-color3: var(--colab-primary-surface-color, white);\n",
       "                }\n",
       "            </style>\n",
       "            "
      ],
      "text/plain": [
       "<IPython.core.display.HTML object>"
      ]
     },
     "metadata": {},
     "output_type": "display_data"
    },
    {
     "ename": "Exception",
     "evalue": "User memory limit exceeded.",
     "output_type": "error",
     "traceback": [
      "\u001b[1;31m---------------------------------------------------------------------------\u001b[0m",
      "\u001b[1;31mHttpError\u001b[0m                                 Traceback (most recent call last)",
      "File \u001b[1;32md:\\Sugarcane\\.venv\\Lib\\site-packages\\ee\\data.py:355\u001b[0m, in \u001b[0;36m_execute_cloud_call\u001b[1;34m(call, num_retries)\u001b[0m\n\u001b[0;32m    354\u001b[0m \u001b[38;5;28;01mtry\u001b[39;00m:\n\u001b[1;32m--> 355\u001b[0m   \u001b[38;5;28;01mreturn\u001b[39;00m \u001b[43mcall\u001b[49m\u001b[38;5;241;43m.\u001b[39;49m\u001b[43mexecute\u001b[49m\u001b[43m(\u001b[49m\u001b[43mnum_retries\u001b[49m\u001b[38;5;241;43m=\u001b[39;49m\u001b[43mnum_retries\u001b[49m\u001b[43m)\u001b[49m\n\u001b[0;32m    356\u001b[0m \u001b[38;5;28;01mexcept\u001b[39;00m googleapiclient\u001b[38;5;241m.\u001b[39merrors\u001b[38;5;241m.\u001b[39mHttpError \u001b[38;5;28;01mas\u001b[39;00m e:\n",
      "File \u001b[1;32md:\\Sugarcane\\.venv\\Lib\\site-packages\\googleapiclient\\_helpers.py:130\u001b[0m, in \u001b[0;36mpositional.<locals>.positional_decorator.<locals>.positional_wrapper\u001b[1;34m(*args, **kwargs)\u001b[0m\n\u001b[0;32m    129\u001b[0m         logger\u001b[38;5;241m.\u001b[39mwarning(message)\n\u001b[1;32m--> 130\u001b[0m \u001b[38;5;28;01mreturn\u001b[39;00m \u001b[43mwrapped\u001b[49m\u001b[43m(\u001b[49m\u001b[38;5;241;43m*\u001b[39;49m\u001b[43margs\u001b[49m\u001b[43m,\u001b[49m\u001b[43m \u001b[49m\u001b[38;5;241;43m*\u001b[39;49m\u001b[38;5;241;43m*\u001b[39;49m\u001b[43mkwargs\u001b[49m\u001b[43m)\u001b[49m\n",
      "File \u001b[1;32md:\\Sugarcane\\.venv\\Lib\\site-packages\\googleapiclient\\http.py:938\u001b[0m, in \u001b[0;36mHttpRequest.execute\u001b[1;34m(self, http, num_retries)\u001b[0m\n\u001b[0;32m    937\u001b[0m \u001b[38;5;28;01mif\u001b[39;00m resp\u001b[38;5;241m.\u001b[39mstatus \u001b[38;5;241m>\u001b[39m\u001b[38;5;241m=\u001b[39m \u001b[38;5;241m300\u001b[39m:\n\u001b[1;32m--> 938\u001b[0m     \u001b[38;5;28;01mraise\u001b[39;00m HttpError(resp, content, uri\u001b[38;5;241m=\u001b[39m\u001b[38;5;28mself\u001b[39m\u001b[38;5;241m.\u001b[39muri)\n\u001b[0;32m    939\u001b[0m \u001b[38;5;28;01mreturn\u001b[39;00m \u001b[38;5;28mself\u001b[39m\u001b[38;5;241m.\u001b[39mpostproc(resp, content)\n",
      "\u001b[1;31mHttpError\u001b[0m: <HttpError 400 when requesting https://earthengine.googleapis.com/v1/projects/earthengine-legacy/value:compute?prettyPrint=false&alt=json returned \"User memory limit exceeded.\". Details: \"User memory limit exceeded.\">",
      "\nDuring handling of the above exception, another exception occurred:\n",
      "\u001b[1;31mEEException\u001b[0m                               Traceback (most recent call last)",
      "File \u001b[1;32md:\\Sugarcane\\.venv\\Lib\\site-packages\\geemap\\common.py:8943\u001b[0m, in \u001b[0;36mee_to_df\u001b[1;34m(ee_object, col_names, sort_columns, **kwargs)\u001b[0m\n\u001b[0;32m   8942\u001b[0m \u001b[38;5;28;01mtry\u001b[39;00m:\n\u001b[1;32m-> 8943\u001b[0m     property_names \u001b[38;5;241m=\u001b[39m \u001b[43mee_object\u001b[49m\u001b[38;5;241;43m.\u001b[39;49m\u001b[43mfirst\u001b[49m\u001b[43m(\u001b[49m\u001b[43m)\u001b[49m\u001b[38;5;241;43m.\u001b[39;49m\u001b[43mpropertyNames\u001b[49m\u001b[43m(\u001b[49m\u001b[43m)\u001b[49m\u001b[38;5;241;43m.\u001b[39;49m\u001b[43msort\u001b[49m\u001b[43m(\u001b[49m\u001b[43m)\u001b[49m\u001b[38;5;241;43m.\u001b[39;49m\u001b[43mgetInfo\u001b[49m\u001b[43m(\u001b[49m\u001b[43m)\u001b[49m\n\u001b[0;32m   8944\u001b[0m     data \u001b[38;5;241m=\u001b[39m ee_object\u001b[38;5;241m.\u001b[39mmap(\u001b[38;5;28;01mlambda\u001b[39;00m f: ee\u001b[38;5;241m.\u001b[39mFeature(\u001b[38;5;28;01mNone\u001b[39;00m, f\u001b[38;5;241m.\u001b[39mtoDictionary(property_names)))\n",
      "File \u001b[1;32md:\\Sugarcane\\.venv\\Lib\\site-packages\\ee\\computedobject.py:105\u001b[0m, in \u001b[0;36mComputedObject.getInfo\u001b[1;34m(self)\u001b[0m\n\u001b[0;32m    100\u001b[0m \u001b[38;5;250m\u001b[39m\u001b[38;5;124;03m\"\"\"Fetch and return information about this object.\u001b[39;00m\n\u001b[0;32m    101\u001b[0m \n\u001b[0;32m    102\u001b[0m \u001b[38;5;124;03mReturns:\u001b[39;00m\n\u001b[0;32m    103\u001b[0m \u001b[38;5;124;03m  The object can evaluate to anything.\u001b[39;00m\n\u001b[0;32m    104\u001b[0m \u001b[38;5;124;03m\"\"\"\u001b[39;00m\n\u001b[1;32m--> 105\u001b[0m \u001b[38;5;28;01mreturn\u001b[39;00m \u001b[43mdata\u001b[49m\u001b[38;5;241;43m.\u001b[39;49m\u001b[43mcomputeValue\u001b[49m\u001b[43m(\u001b[49m\u001b[38;5;28;43mself\u001b[39;49m\u001b[43m)\u001b[49m\n",
      "File \u001b[1;32md:\\Sugarcane\\.venv\\Lib\\site-packages\\ee\\data.py:1053\u001b[0m, in \u001b[0;36mcomputeValue\u001b[1;34m(obj)\u001b[0m\n\u001b[0;32m   1051\u001b[0m _maybe_populate_workload_tag(body)\n\u001b[1;32m-> 1053\u001b[0m \u001b[38;5;28;01mreturn\u001b[39;00m \u001b[43m_execute_cloud_call\u001b[49m\u001b[43m(\u001b[49m\n\u001b[0;32m   1054\u001b[0m \u001b[43m    \u001b[49m\u001b[43m_get_cloud_projects\u001b[49m\u001b[43m(\u001b[49m\u001b[43m)\u001b[49m\n\u001b[0;32m   1055\u001b[0m \u001b[43m    \u001b[49m\u001b[38;5;241;43m.\u001b[39;49m\u001b[43mvalue\u001b[49m\u001b[43m(\u001b[49m\u001b[43m)\u001b[49m\n\u001b[0;32m   1056\u001b[0m \u001b[43m    \u001b[49m\u001b[38;5;241;43m.\u001b[39;49m\u001b[43mcompute\u001b[49m\u001b[43m(\u001b[49m\u001b[43mbody\u001b[49m\u001b[38;5;241;43m=\u001b[39;49m\u001b[43mbody\u001b[49m\u001b[43m,\u001b[49m\u001b[43m \u001b[49m\u001b[43mproject\u001b[49m\u001b[38;5;241;43m=\u001b[39;49m\u001b[43m_get_projects_path\u001b[49m\u001b[43m(\u001b[49m\u001b[43m)\u001b[49m\u001b[43m,\u001b[49m\u001b[43m \u001b[49m\u001b[43mprettyPrint\u001b[49m\u001b[38;5;241;43m=\u001b[39;49m\u001b[38;5;28;43;01mFalse\u001b[39;49;00m\u001b[43m)\u001b[49m\n\u001b[0;32m   1057\u001b[0m \u001b[43m\u001b[49m\u001b[43m)\u001b[49m[\u001b[38;5;124m'\u001b[39m\u001b[38;5;124mresult\u001b[39m\u001b[38;5;124m'\u001b[39m]\n",
      "File \u001b[1;32md:\\Sugarcane\\.venv\\Lib\\site-packages\\ee\\data.py:357\u001b[0m, in \u001b[0;36m_execute_cloud_call\u001b[1;34m(call, num_retries)\u001b[0m\n\u001b[0;32m    356\u001b[0m \u001b[38;5;28;01mexcept\u001b[39;00m googleapiclient\u001b[38;5;241m.\u001b[39merrors\u001b[38;5;241m.\u001b[39mHttpError \u001b[38;5;28;01mas\u001b[39;00m e:\n\u001b[1;32m--> 357\u001b[0m   \u001b[38;5;28;01mraise\u001b[39;00m _translate_cloud_exception(e)\n",
      "\u001b[1;31mEEException\u001b[0m: User memory limit exceeded.",
      "\nDuring handling of the above exception, another exception occurred:\n",
      "\u001b[1;31mException\u001b[0m                                 Traceback (most recent call last)",
      "\u001b[1;32m~\\AppData\\Local\\Temp\\ipykernel_10924\\3880698246.py\u001b[0m in \u001b[0;36m?\u001b[1;34m()\u001b[0m\n\u001b[0;32m      4\u001b[0m     \u001b[0mcollection\u001b[0m \u001b[1;33m=\u001b[0m \u001b[0mee_plots_gdf\u001b[0m\u001b[1;33m,\u001b[0m\u001b[1;33m\u001b[0m\u001b[1;33m\u001b[0m\u001b[0m\n\u001b[0;32m      5\u001b[0m     \u001b[0mscale\u001b[0m \u001b[1;33m=\u001b[0m \u001b[1;36m30\u001b[0m\u001b[1;33m\u001b[0m\u001b[1;33m\u001b[0m\u001b[0m\n\u001b[0;32m      6\u001b[0m )\n\u001b[0;32m      7\u001b[0m \u001b[1;31m# convert to DataFrame\u001b[0m\u001b[1;33m\u001b[0m\u001b[1;33m\u001b[0m\u001b[0m\n\u001b[1;32m----> 8\u001b[1;33m \u001b[0mplots_with_gcvi\u001b[0m \u001b[1;33m=\u001b[0m \u001b[0mgeemap\u001b[0m\u001b[1;33m.\u001b[0m\u001b[0mee_to_pandas\u001b[0m\u001b[1;33m(\u001b[0m\u001b[0mee_plots_gcvi\u001b[0m\u001b[1;33m)\u001b[0m\u001b[1;33m\u001b[0m\u001b[1;33m\u001b[0m\u001b[0m\n\u001b[0m\u001b[0;32m      9\u001b[0m \u001b[0mplots_with_gcvi\u001b[0m\u001b[1;33m\u001b[0m\u001b[1;33m\u001b[0m\u001b[0m\n",
      "\u001b[1;32md:\\Sugarcane\\.venv\\Lib\\site-packages\\geemap\\common.py\u001b[0m in \u001b[0;36m?\u001b[1;34m(ee_object, col_names, sort_columns, **kwargs)\u001b[0m\n\u001b[0;32m   8960\u001b[0m             \u001b[0mdf\u001b[0m \u001b[1;33m=\u001b[0m \u001b[0mdf\u001b[0m\u001b[1;33m.\u001b[0m\u001b[0mreindex\u001b[0m\u001b[1;33m(\u001b[0m\u001b[0msorted\u001b[0m\u001b[1;33m(\u001b[0m\u001b[0mdf\u001b[0m\u001b[1;33m.\u001b[0m\u001b[0mcolumns\u001b[0m\u001b[1;33m)\u001b[0m\u001b[1;33m,\u001b[0m \u001b[0maxis\u001b[0m\u001b[1;33m=\u001b[0m\u001b[1;36m1\u001b[0m\u001b[1;33m)\u001b[0m\u001b[1;33m\u001b[0m\u001b[1;33m\u001b[0m\u001b[0m\n\u001b[0;32m   8961\u001b[0m \u001b[1;33m\u001b[0m\u001b[0m\n\u001b[0;32m   8962\u001b[0m         \u001b[1;32mreturn\u001b[0m \u001b[0mdf\u001b[0m\u001b[1;33m\u001b[0m\u001b[1;33m\u001b[0m\u001b[0m\n\u001b[0;32m   8963\u001b[0m     \u001b[1;32mexcept\u001b[0m \u001b[0mException\u001b[0m \u001b[1;32mas\u001b[0m \u001b[0me\u001b[0m\u001b[1;33m:\u001b[0m\u001b[1;33m\u001b[0m\u001b[1;33m\u001b[0m\u001b[0m\n\u001b[1;32m-> 8964\u001b[1;33m         \u001b[1;32mraise\u001b[0m \u001b[0mException\u001b[0m\u001b[1;33m(\u001b[0m\u001b[0me\u001b[0m\u001b[1;33m)\u001b[0m\u001b[1;33m\u001b[0m\u001b[1;33m\u001b[0m\u001b[0m\n\u001b[0m",
      "\u001b[1;31mException\u001b[0m: User memory limit exceeded."
     ]
    }
   ],
   "source": [
    "# Calculate mean GCVI values for areas\n",
    "ee_plots_gcvi = hrmregr_coefs_gcvi.reduceRegions(\n",
    "    reducer = ee.Reducer.mean(),\n",
    "    collection = ee_plots_gdf,\n",
    "    scale = 30\n",
    ")\n",
    "# convert to DataFrame\n",
    "plots_with_gcvi = geemap.ee_to_pandas(ee_plots_gcvi)\n",
    "plots_with_gcvi"
   ]
  },
  {
   "cell_type": "code",
   "execution_count": null,
   "id": "18938f11-0912-49d2-81ba-0d4c9af9757f",
   "metadata": {},
   "outputs": [],
   "source": [
    "# define bands of interest\n",
    "bands_indices = ['RDED4','GCVI','NBR1','NDTI','NDVI','SNDVI']\n",
    "\n",
    "# create empty dataframe to fill with values\n",
    "s2_2a_df = pd.DataFrame()\n",
    "\n",
    "# for each band, run harmonic regression to obtain seasonality features\n",
    "for band in bands_indices:\n",
    "    dep_bands = [band]\n",
    "\n",
    "    # select only band/index of interest\n",
    "    imgcoll = s2coll_2a.select(dep_bands)\n",
    "    # run harmonic regression on ImageCollection\n",
    "    hrmregr_img = harmonics.run_std_regressions(imgcoll,dep_bands,None)\n",
    "\n",
    "    # Use resulting image to obtain mean for each region of interest\n",
    "    means = hrmregr_img.reduceRegions(\n",
    "        reducer = ee.Reducer.mean(),\n",
    "        collection = ee_plots_gdf,\n",
    "        scale = 30\n",
    "    )\n",
    "    # convert to DataFrame\n",
    "    means_df = geemap.ee_to_pandas(means)\n",
    "\n",
    "    # if first band, define s2_2a_df as means_df\n",
    "    if s2_2a_df.size == 0:\n",
    "        s2_2a_df = means_df.copy()\n",
    "    # else, join new bands onto s2_2a_df dataframe\n",
    "    else:\n",
    "        s2_2a_df = s2_2a_df.merge(means_df, on='unique_id')\n",
    "\n",
    "s2_2a_df"
   ]
  },
  {
   "cell_type": "code",
   "execution_count": null,
   "id": "06560f78-c492-4ff9-aa6c-0bae1de8af01",
   "metadata": {},
   "outputs": [],
   "source": [
    "s2_2a_df.columns"
   ]
  },
  {
   "cell_type": "code",
   "execution_count": null,
   "id": "ae481fb2-5c2b-4cf5-90d4-9ac52d4aa1c7",
   "metadata": {},
   "outputs": [],
   "source": [
    "# define GEE id of SRTM V3 Image\n",
    "srtm = ee.Image('USGS/SRTMGL1_003')"
   ]
  },
  {
   "cell_type": "code",
   "execution_count": null,
   "id": "4949e47d-a5da-4983-b7b4-d9acebaacf09",
   "metadata": {},
   "outputs": [],
   "source": [
    "elevation = srtm.select('elevation')\n",
    "slope = ee.Terrain.slope(elevation)\n",
    "aspect = ee.Terrain.aspect(elevation)"
   ]
  },
  {
   "cell_type": "code",
   "execution_count": null,
   "id": "52474d84-f5c3-4b68-aab6-3041316bc6b7",
   "metadata": {},
   "outputs": [],
   "source": [
    "# Calculate mean slope for area\n",
    "slope_c = slope.reduceRegion(\n",
    "    reducer = ee.Reducer.mean(),\n",
    "    geometry = ee_plot_c,\n",
    "    scale = 30\n",
    ")\n",
    "mean_slope_c = slope_c.get('slope')\n",
    "print('Mean slope for plot c:',mean_slope_c.getInfo())"
   ]
  },
  {
   "cell_type": "code",
   "execution_count": null,
   "id": "a7617450-c0ad-44ab-8de9-ea1a83eb15d7",
   "metadata": {},
   "outputs": [],
   "source": [
    "# this is not a real plot from any survey data; it was randomly selected for demonstration\n",
    "center_lat = -25.497616\n",
    "center_lon = 31.355667\n",
    "\n",
    "elev_map = geemap.Map(center=[center_lat,center_lon], zoom=9)\n",
    "elev_map.addLayer(slope, {min:0, max: 90}, 'slope')\n",
    "elev_map"
   ]
  },
  {
   "cell_type": "code",
   "execution_count": null,
   "id": "01a9dfa3-4aec-4574-8198-18bfd52484a6",
   "metadata": {},
   "outputs": [],
   "source": [
    "# this is not a real plot from any survey data; it was randomly selected for demonstration\n",
    "center_lat = -25.497616\n",
    "center_lon = 31.355667\n",
    "\n",
    "\n",
    "map_plot_c = geemap.Map(center=[center_lat,center_lon],zoom=6)\n",
    "\n",
    "terrain_params = {'min': 0, 'max': 1000, 'palette': [\n",
    "    '3ae237', 'b5e22e', 'd6e21f', 'fff705', 'ffd611', 'ffb613', 'ff8b13',\n",
    "    'ff6e08', 'ff500d', 'ff0000', 'de0101', 'c21301', '0602ff', '235cb1',\n",
    "    '307ef3', '269db1', '30c8e2', '32d3ef', '3be285', '3ff38f', '86e26f'\n",
    "  ]}\n",
    "map_plot_c.addLayer(elevation, terrain_params, 'elevation')\n",
    "map_plot_c"
   ]
  },
  {
   "cell_type": "code",
   "execution_count": null,
   "id": "d2e9a87f-d811-48a2-8464-ee6a93e39c37",
   "metadata": {},
   "outputs": [],
   "source": [
    "# define measures of interest\n",
    "measure_images = {'elevation':elevation, 'slope':slope, 'aspect':aspect}\n",
    "# create empty dataframe to store results\n",
    "srtm_df = pd.DataFrame()\n",
    "\n",
    "# for each measure, calculate the mean for all plots\n",
    "for label, img in measure_images.items():\n",
    "    means = img.reduceRegions(\n",
    "        reducer = ee.Reducer.mean(),\n",
    "        collection = ee_plots_gdf,\n",
    "        scale = 30\n",
    "    )\n",
    "    # convert to DataFrame\n",
    "    means_df = geemap.ee_to_pandas(means)\n",
    "    # select only the mean and plot id to join\n",
    "    # to the original; rename 'mean' for clarity\n",
    "    means_df = means_df.loc[:,('unique_id','mean')].rename(columns={'mean':label})\n",
    "    # if first terrain measure, define srtm_df as means_df\n",
    "    if srtm_df.size == 0:\n",
    "        srtm_df = means_df.copy()\n",
    "    # else, join new terrain measures onto srtm_df DataFrame\n",
    "    else:\n",
    "        srtm_df = srtm_df.merge(means_df, on='unique_id')\n",
    "\n",
    "srtm_df"
   ]
  },
  {
   "cell_type": "code",
   "execution_count": null,
   "id": "20681b85-1096-4d32-a7a3-49f26579d788",
   "metadata": {},
   "outputs": [],
   "source": [
    "# this is not a real plot from any survey data; it was randomly selected for demonstration\n",
    "center_lat = -26.497616\n",
    "center_lon = 31.355667\n",
    "\n",
    "precip_point_g = geemap.Map(center=[center_lat,center_lon],zoom=7)\n",
    "precip_point_g.add_basemap('SATELLITE')\n",
    "\n",
    "# select precipitation for the range of dates in the growing season\n",
    "precip = ee.ImageCollection('UCSB-CHG/CHIRPS/DAILY').\\\n",
    "    filter(ee.Filter.date('2018-04-01', '2019-10-01')).select('precipitation')\n",
    "\n",
    "precip_params = {'min': 1.0, 'max': 17.0,\\\n",
    "  'palette': ['001137', '0aab1e', 'e7eb05', 'ff4a2d', 'e90000'],}\n",
    "precip_point_g.addLayer(precip, precip_params, 'Precipitation');\n",
    "precip_point_g"
   ]
  },
  {
   "cell_type": "code",
   "execution_count": null,
   "id": "9f1d221c-7677-4015-acf4-7651919d165a",
   "metadata": {},
   "outputs": [],
   "source": [
    "# get the sum of all days (the first .reduce(ee.Reducer.sum()) which takes the sum of all Images in the ImageCollection), \n",
    "# then get the mean for each plot area with .reduceRegions()\n",
    "tot_precip = precip.reduce(ee.Reducer.sum()).reduceRegions(\n",
    "    reducer = ee.Reducer.mean(),\n",
    "    collection = ee_plots_gdf,\n",
    "    scale = 30\n",
    ")\n",
    "# convert to DataFrame\n",
    "weather_df = geemap.ee_to_pandas(tot_precip)\n",
    "weather_df.rename(columns={'mean':'precipitation'},inplace=True)\n",
    "weather_df"
   ]
  },
  {
   "cell_type": "code",
   "execution_count": null,
   "id": "4029be8c-79a1-4c54-accd-13b4f10a4197",
   "metadata": {},
   "outputs": [],
   "source": [
    "# since all other tables have unique_id as a float dtype, convert survey_gdf's unique_id to float to match\n",
    "survey_gdf['unique_id'] = survey_gdf['unique_id'].astype('float64')\n",
    "\n",
    "merged = survey_gdf.merge(weather_df, on = 'unique_id')\n",
    "merged = merged.merge(s2_2a_df, on = 'unique_id')    \n",
    "merged = merged.merge(srtm_df, on = 'unique_id')   \n",
    "merged"
   ]
  },
  {
   "cell_type": "code",
   "execution_count": null,
   "id": "8b472879-99d1-454c-8d38-5d4b65cb4a43",
   "metadata": {},
   "outputs": [],
   "source": [
    "#feature pre selection\n",
    "merged_preselected = merged.loc[:,('maize_pos', 'plot', 'aspect', 'elevation', 'slope', 'GCVI_cos2', 'GCVI_r2', 'GCVI_rmse', 'GCVI_variance', 'NBR1_cos1', 'NBR1_cos2', 'NBR1_r2', 'NBR1_rmse', 'NBR1_sin2', 'NDTI_constant', 'NDTI_cos1', 'NDTI_cos2', 'NDTI_r2', 'NDTI_rmse', 'NDTI_sin2', 'NDTI_variance', 'NDVI_cos1', 'NDVI_cos2', 'NDVI_mean', 'NDVI_sin1', 'NDVI_sin2', 'RDED4_constant', 'RDED4_cos1', 'RDED4_r2', 'RDED4_rmse', 'RDED4_sin1', 'RDED4_sin2', 'RDED4_t', 'SNDVI_r2', 'SNDVI_rmse', 'SNDVI_variance')]"
   ]
  },
  {
   "cell_type": "code",
   "execution_count": null,
   "id": "fcdefb96-7fd5-46f4-b916-b8ffee22ac56",
   "metadata": {},
   "outputs": [],
   "source": [
    "#train and test model\n",
    "import sklearn\n",
    "from sklearn.model_selection import train_test_split\n",
    "\n",
    "y = merged_preselected['maize_pos']\n",
    "X = merged_preselected.loc[:, 'aspect':'SNDVI_variance']\n",
    "X_train, X_test, y_train, y_test = train_test_split(X, y, test_size=0.20, random_state=100, stratify=merged_preselected.loc[:, ('maize_pos', 'plot')])"
   ]
  },
  {
   "cell_type": "code",
   "execution_count": null,
   "id": "3ef386e3-fe87-4ca6-831c-2582b687a545",
   "metadata": {},
   "outputs": [],
   "source": [
    "#Hyperparameter tuning model\n",
    "from sklearn.ensemble import RandomForestClassifier\n",
    "from sklearn.metrics import make_scorer, accuracy_score, precision_score, recall_score\n",
    "from sklearn.pipeline import Pipeline\n",
    "from sklearn.model_selection import GridSearchCV\n",
    "rf_pipeline = Pipeline([\n",
    "    ('rf', RandomForestClassifier())\n",
    "    ])\n",
    "rf_params = {\n",
    "          'rf__n_estimators': (100,1000,5000),\n",
    "          'rf__criterion': ('gini','entropy'),\n",
    "          'rf__max_depth': (1,3,5),\n",
    "          'rf__min_samples_split': (2,5,10),\n",
    "          'rf__random_state': [10]\n",
    "         }\n",
    "k = 10\n",
    "\n",
    "rf_grid_model = GridSearchCV(\n",
    "    estimator=rf_pipeline,\n",
    "    param_grid=rf_params,\n",
    "    cv=k,\n",
    "    scoring=['accuracy','precision','recall'],\n",
    "    refit='accuracy' \n",
    ")\n",
    "\n",
    "crop_fitted = rf_grid_model.fit(X_train, y_train.ravel())\n",
    "crop_results = crop_fitted.cv_results_\n",
    "crop_results = pd.DataFrame(crop_results)"
   ]
  },
  {
   "cell_type": "code",
   "execution_count": null,
   "id": "7555c5cb-747c-42f5-8d51-358a6e0e7fc3",
   "metadata": {},
   "outputs": [],
   "source": [
    "#apply model to entire ROI\n",
    "rf_best = RandomForestClassifier(criterion = 'entropy', max_depth = 3, min_samples_split = 5, n_estimators = 1000, random_state=10)\n",
    "rf_best_fit = rf_best.fit(X_train, y_train.ravel())"
   ]
  },
  {
   "cell_type": "code",
   "execution_count": null,
   "id": "fc2c0c0d-b0d6-4ec1-ab69-e0802079b42e",
   "metadata": {},
   "outputs": [],
   "source": [
    "#predicted cultivation crop maps\n",
    "import rasterio\n",
    "from rasterio.plot import show, plotting_extent\n",
    "import earthpy as et\n",
    "import earthpy.plot as ep \n",
    "\n",
    "cropland_file = 'D:\\Sugarcane\\swaziland_cropland\\crops.tif'\n",
    "sugarcane_file = 'D:\\Maize\\mwi_maize_mask_cog_2019.tif'\n",
    "\n",
    "cropland_raster = rasterio.open(cropland_file)\n",
    "sugarcane_raster = rasterio.open(sugarcane_file)"
   ]
  },
  {
   "cell_type": "code",
   "execution_count": null,
   "id": "a7f356eb-91fc-4be3-a2b9-cb4c7503c062",
   "metadata": {},
   "outputs": [],
   "source": [
    "sugarcane_raster.read()"
   ]
  },
  {
   "cell_type": "code",
   "execution_count": null,
   "id": "1b1b5bd4-53fc-4e3b-8515-cad8b6b4f534",
   "metadata": {},
   "outputs": [],
   "source": [
    "# summary of the size of sugarcane_raster contents\n",
    "sugarcane_raster.read().shape"
   ]
  },
  {
   "cell_type": "code",
   "execution_count": null,
   "id": "017d0c09-aab6-48dc-9a44-915059bbd9da",
   "metadata": {},
   "outputs": [],
   "source": [
    "sugarcane_array = sugarcane_raster.read(1)\n",
    "sugarcane_array"
   ]
  },
  {
   "cell_type": "code",
   "execution_count": null,
   "id": "b6c7e5f5-20f7-4649-a948-8eeaf8ea1b06",
   "metadata": {},
   "outputs": [],
   "source": [
    "f, (ax1,ax2) = plt.subplots(1,2,figsize=(15,8))\n",
    "ep.plot_bands(cropland_raster.read(1),cmap='Greens',ax=ax1)\n",
    "ax1.set_title('Cropland Raster')\n",
    "ep.plot_bands(sugarcane_raster.read(1),cmap='Wistia',ax=ax2)\n",
    "ax2.set_title('Sugarcane Raster')"
   ]
  },
  {
   "cell_type": "code",
   "execution_count": null,
   "id": "8d4a59a3-01f0-4579-b84e-a9fa618f7dd1",
   "metadata": {},
   "outputs": [],
   "source": [
    "import earthpy.mask as em  \n",
    "\n",
    "f, (ax1,ax2) = plt.subplots(1,2,figsize=(15,8))\n",
    "\n",
    "# create separate array of true/false values for pixels above/below 40 percent threshold\n",
    "cropland_mask = cropland_raster.read(1) < 40\n",
    "# use true/false array to remove all pixels which were below 40 percent\n",
    "cropland_masked = em.mask_pixels(cropland_raster.read(1), cropland_mask)\n",
    "\n",
    "# remove all pixels from maizeland raster which do not contain crops\n",
    "sugarcane_crop_masked = em.mask_pixels(sugarcane_raster.read(1), cropland_mask)\n",
    "\n",
    "# create array of remaining maizeland pixels as either above/below the 60 percent threshold\n",
    "sugarcane_mask = sugarcane_crop_masked < 60\n",
    "# remove all maizeland pixels which were below 60 percent\n",
    "sugarcane_masked = em.mask_pixels(sugarcane_crop_masked, sugarcane_mask)\n",
    "\n",
    "# plot final rasters identifying cropland and sugarcane predicted from models\n",
    "ep.plot_bands(cropland_masked,cmap='Greens',ax=ax1,scale=True,vmin=0,vmax=100)\n",
    "ep.plot_bands(sugarcane_masked,cmap='Wistia',ax=ax2,scale=True,vmin=0,vmax=100)"
   ]
  },
  {
   "cell_type": "code",
   "execution_count": null,
   "id": "d55ecda0-29d8-461e-a039-aff110461628",
   "metadata": {},
   "outputs": [],
   "source": [
    "import numpy as np\n",
    "\n",
    "# Assuming the pixel size is available in meters squared\n",
    "pixel_size = 30 * 30 \n",
    "\n",
    "# Calculate the number of pixels classified as sugarcane (assuming sugarcane pixels are labeled as True in the mask)\n",
    "sugarcane_pixels = np.count_nonzero(sugarcane_masked)\n",
    "\n",
    "# Calculate the area in hectares\n",
    "area_sugarcane_ha = sugarcane_pixels * pixel_size / 10000  \n",
    "\n",
    "print(f\"Area of predicted sugarcane land: {area_sugarcane_ha} hectares\")"
   ]
  },
  {
   "cell_type": "code",
   "execution_count": null,
   "id": "d141fd3b-1894-46a4-8ab9-954695a31211",
   "metadata": {},
   "outputs": [],
   "source": [
    "import pickle\n",
    "\n",
    "filename = 'trained_model.sav'\n",
    "pickle.dump(RandomForestClassifier, open(filename, 'wb'))\n",
    "# loading the saved model\n",
    "loaded_model = pickle.load(open('trained_model.sav', 'rb'))\n",
    "\n"
   ]
  }
 ],
 "metadata": {
  "kernelspec": {
   "display_name": "Python 3 (ipykernel)",
   "language": "python",
   "name": "python3"
  },
  "language_info": {
   "codemirror_mode": {
    "name": "ipython",
    "version": 3
   },
   "file_extension": ".py",
   "mimetype": "text/x-python",
   "name": "python",
   "nbconvert_exporter": "python",
   "pygments_lexer": "ipython3",
   "version": "3.11.2"
  }
 },
 "nbformat": 4,
 "nbformat_minor": 5
}
